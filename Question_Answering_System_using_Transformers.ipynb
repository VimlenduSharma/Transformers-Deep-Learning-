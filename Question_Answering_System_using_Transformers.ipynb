{
 "cells": [
  {
   "cell_type": "code",
   "execution_count": 23,
   "id": "3a90e8d5",
   "metadata": {},
   "outputs": [
    {
     "name": "stdout",
     "output_type": "stream",
     "text": [
      "Requirement already satisfied: transformers in /opt/anaconda3/lib/python3.12/site-packages (4.44.2)\n",
      "Requirement already satisfied: filelock in /opt/anaconda3/lib/python3.12/site-packages (from transformers) (3.13.1)\n",
      "Requirement already satisfied: huggingface-hub<1.0,>=0.23.2 in /opt/anaconda3/lib/python3.12/site-packages (from transformers) (0.25.0)\n",
      "Requirement already satisfied: numpy>=1.17 in /opt/anaconda3/lib/python3.12/site-packages (from transformers) (1.26.4)\n",
      "Requirement already satisfied: packaging>=20.0 in /opt/anaconda3/lib/python3.12/site-packages (from transformers) (23.2)\n",
      "Requirement already satisfied: pyyaml>=5.1 in /opt/anaconda3/lib/python3.12/site-packages (from transformers) (6.0.1)\n",
      "Requirement already satisfied: regex!=2019.12.17 in /opt/anaconda3/lib/python3.12/site-packages (from transformers) (2023.10.3)\n",
      "Requirement already satisfied: requests in /opt/anaconda3/lib/python3.12/site-packages (from transformers) (2.32.2)\n",
      "Requirement already satisfied: safetensors>=0.4.1 in /opt/anaconda3/lib/python3.12/site-packages (from transformers) (0.4.5)\n",
      "Requirement already satisfied: tokenizers<0.20,>=0.19 in /opt/anaconda3/lib/python3.12/site-packages (from transformers) (0.19.1)\n",
      "Requirement already satisfied: tqdm>=4.27 in /opt/anaconda3/lib/python3.12/site-packages (from transformers) (4.66.4)\n",
      "Requirement already satisfied: fsspec>=2023.5.0 in /opt/anaconda3/lib/python3.12/site-packages (from huggingface-hub<1.0,>=0.23.2->transformers) (2024.3.1)\n",
      "Requirement already satisfied: typing-extensions>=3.7.4.3 in /opt/anaconda3/lib/python3.12/site-packages (from huggingface-hub<1.0,>=0.23.2->transformers) (4.12.2)\n",
      "Requirement already satisfied: charset-normalizer<4,>=2 in /opt/anaconda3/lib/python3.12/site-packages (from requests->transformers) (2.0.4)\n",
      "Requirement already satisfied: idna<4,>=2.5 in /opt/anaconda3/lib/python3.12/site-packages (from requests->transformers) (3.7)\n",
      "Requirement already satisfied: urllib3<3,>=1.21.1 in /opt/anaconda3/lib/python3.12/site-packages (from requests->transformers) (2.2.2)\n",
      "Requirement already satisfied: certifi>=2017.4.17 in /opt/anaconda3/lib/python3.12/site-packages (from requests->transformers) (2024.12.14)\n"
     ]
    }
   ],
   "source": [
    "!pip install transformers"
   ]
  },
  {
   "cell_type": "code",
   "execution_count": 24,
   "id": "a6031753",
   "metadata": {},
   "outputs": [],
   "source": [
    "import torch"
   ]
  },
  {
   "cell_type": "code",
   "execution_count": 25,
   "id": "588fde94",
   "metadata": {},
   "outputs": [],
   "source": [
    "from transformers import BertForQuestionAnswering"
   ]
  },
  {
   "cell_type": "code",
   "execution_count": 26,
   "id": "14e4dee4",
   "metadata": {},
   "outputs": [
    {
     "name": "stderr",
     "output_type": "stream",
     "text": [
      "Some weights of the model checkpoint at bert-large-uncased-whole-word-masking-finetuned-squad were not used when initializing BertForQuestionAnswering: ['bert.pooler.dense.bias', 'bert.pooler.dense.weight']\n",
      "- This IS expected if you are initializing BertForQuestionAnswering from the checkpoint of a model trained on another task or with another architecture (e.g. initializing a BertForSequenceClassification model from a BertForPreTraining model).\n",
      "- This IS NOT expected if you are initializing BertForQuestionAnswering from the checkpoint of a model that you expect to be exactly identical (initializing a BertForSequenceClassification model from a BertForSequenceClassification model).\n"
     ]
    }
   ],
   "source": [
    "model = BertForQuestionAnswering.from_pretrained('bert-large-uncased-whole-word-masking-finetuned-squad')"
   ]
  },
  {
   "cell_type": "code",
   "execution_count": 27,
   "id": "13cedc94",
   "metadata": {},
   "outputs": [],
   "source": [
    "from transformers import BertTokenizer"
   ]
  },
  {
   "cell_type": "code",
   "execution_count": 28,
   "id": "4e5d2f4f",
   "metadata": {},
   "outputs": [
    {
     "name": "stderr",
     "output_type": "stream",
     "text": [
      "/opt/anaconda3/lib/python3.12/site-packages/transformers/tokenization_utils_base.py:1601: FutureWarning: `clean_up_tokenization_spaces` was not set. It will be set to `True` by default. This behavior will be depracted in transformers v4.45, and will be then set to `False` by default. For more details check this issue: https://github.com/huggingface/transformers/issues/31884\n",
      "  warnings.warn(\n"
     ]
    }
   ],
   "source": [
    "tokenizer = BertTokenizer.from_pretrained('bert-large-uncased-whole-word-masking-finetuned-squad')"
   ]
  },
  {
   "cell_type": "code",
   "execution_count": 29,
   "id": "f2831d4e",
   "metadata": {},
   "outputs": [],
   "source": [
    "question = \" How many parameters does BERT-large have ? \"\n",
    "\n",
    "answer_text = \" BERT-large is really big... it has 24-layers and an embedding size of 1024, for a total of 340M paramters! All together is is 1.34 Gb, so it is expect to take couple of minutes to download to your colab instance.\""
   ]
  },
  {
   "cell_type": "code",
   "execution_count": 30,
   "id": "11329087",
   "metadata": {},
   "outputs": [],
   "source": [
    "input_ids = tokenizer.encode(question, answer_text)"
   ]
  },
  {
   "cell_type": "code",
   "execution_count": 31,
   "id": "98a36b23",
   "metadata": {},
   "outputs": [
    {
     "name": "stdout",
     "output_type": "stream",
     "text": [
      "[101, 2129, 2116, 11709, 2515, 14324, 1011, 2312, 2031, 1029, 102, 14324, 1011, 2312, 2003, 2428, 2502, 1012, 1012, 1012, 2009, 2038, 2484, 1011, 9014, 1998, 2019, 7861, 8270, 4667, 2946, 1997, 9402, 2549, 1010, 2005, 1037, 2561, 1997, 16029, 2213, 11498, 20492, 2545, 999, 2035, 2362, 2003, 2003, 1015, 1012, 4090, 16351, 1010, 2061, 2009, 2003, 5987, 2000, 2202, 3232, 1997, 2781, 2000, 8816, 2000, 2115, 15270, 2497, 6013, 1012, 102]\n"
     ]
    }
   ],
   "source": [
    "print(input_ids)"
   ]
  },
  {
   "cell_type": "code",
   "execution_count": 32,
   "id": "faeb8cce",
   "metadata": {},
   "outputs": [],
   "source": [
    "token_to_ids = tokenizer.convert_ids_to_tokens(input_ids)"
   ]
  },
  {
   "cell_type": "code",
   "execution_count": 33,
   "id": "32a08022",
   "metadata": {},
   "outputs": [
    {
     "name": "stdout",
     "output_type": "stream",
     "text": [
      "[CLS] 101\n",
      "how 2129\n",
      "many 2116\n",
      "parameters 11709\n",
      "does 2515\n",
      "bert 14324\n",
      "- 1011\n",
      "large 2312\n",
      "have 2031\n",
      "? 1029\n",
      "[SEP] 102\n",
      "bert 14324\n",
      "- 1011\n",
      "large 2312\n",
      "is 2003\n",
      "really 2428\n",
      "big 2502\n",
      ". 1012\n",
      ". 1012\n",
      ". 1012\n",
      "it 2009\n",
      "has 2038\n",
      "24 2484\n",
      "- 1011\n",
      "layers 9014\n",
      "and 1998\n",
      "an 2019\n",
      "em 7861\n",
      "##bed 8270\n",
      "##ding 4667\n",
      "size 2946\n",
      "of 1997\n",
      "102 9402\n",
      "##4 2549\n",
      ", 1010\n",
      "for 2005\n",
      "a 1037\n",
      "total 2561\n",
      "of 1997\n",
      "340 16029\n",
      "##m 2213\n",
      "para 11498\n",
      "##mt 20492\n",
      "##ers 2545\n",
      "! 999\n",
      "all 2035\n",
      "together 2362\n",
      "is 2003\n",
      "is 2003\n",
      "1 1015\n",
      ". 1012\n",
      "34 4090\n",
      "gb 16351\n",
      ", 1010\n",
      "so 2061\n",
      "it 2009\n",
      "is 2003\n",
      "expect 5987\n",
      "to 2000\n",
      "take 2202\n",
      "couple 3232\n",
      "of 1997\n",
      "minutes 2781\n",
      "to 2000\n",
      "download 8816\n",
      "to 2000\n",
      "your 2115\n",
      "cola 15270\n",
      "##b 2497\n",
      "instance 6013\n",
      ". 1012\n",
      "[SEP] 102\n"
     ]
    }
   ],
   "source": [
    "for token, id in zip(token_to_ids, input_ids):\n",
    "    print(token, id)"
   ]
  },
  {
   "cell_type": "code",
   "execution_count": 34,
   "id": "0ddb0aae",
   "metadata": {},
   "outputs": [
    {
     "name": "stdout",
     "output_type": "stream",
     "text": [
      "11\n"
     ]
    }
   ],
   "source": [
    "sep_index = input_ids.index(tokenizer.sep_token_id)\n",
    "num_seg_a = sep_index+1\n",
    "print(num_seg_a)"
   ]
  },
  {
   "cell_type": "code",
   "execution_count": 35,
   "id": "6df54f6f",
   "metadata": {},
   "outputs": [
    {
     "name": "stdout",
     "output_type": "stream",
     "text": [
      "61\n"
     ]
    }
   ],
   "source": [
    "num_seg_b = len(input_ids) - num_seg_a\n",
    "print(num_seg_b)"
   ]
  },
  {
   "cell_type": "code",
   "execution_count": 36,
   "id": "ec0568d6",
   "metadata": {},
   "outputs": [
    {
     "name": "stdout",
     "output_type": "stream",
     "text": [
      "[0, 0, 0, 0, 0, 0, 0, 0, 0, 0, 0, 1, 1, 1, 1, 1, 1, 1, 1, 1, 1, 1, 1, 1, 1, 1, 1, 1, 1, 1, 1, 1, 1, 1, 1, 1, 1, 1, 1, 1, 1, 1, 1, 1, 1, 1, 1, 1, 1, 1, 1, 1, 1, 1, 1, 1, 1, 1, 1, 1, 1, 1, 1, 1, 1, 1, 1, 1, 1, 1, 1, 1]\n"
     ]
    }
   ],
   "source": [
    "segment_ids = [0]*num_seg_a + [1]*num_seg_b\n",
    "print(segment_ids)"
   ]
  },
  {
   "cell_type": "code",
   "execution_count": 37,
   "id": "7d23ee88",
   "metadata": {},
   "outputs": [],
   "source": [
    "outputs = model(torch.tensor([input_ids]),\n",
    "               token_type_ids = torch.tensor([segment_ids]),\n",
    "               return_dict = True)"
   ]
  },
  {
   "cell_type": "code",
   "execution_count": 38,
   "id": "ec1206a6",
   "metadata": {},
   "outputs": [],
   "source": [
    "start_probs = outputs.start_logits\n",
    "end_probs = outputs.end_logits"
   ]
  },
  {
   "cell_type": "code",
   "execution_count": 39,
   "id": "9e318c1c",
   "metadata": {},
   "outputs": [
    {
     "name": "stdout",
     "output_type": "stream",
     "text": [
      "tensor([[-6.3478e+00, -6.9138e+00, -8.1047e+00, -8.7394e+00, -7.7783e+00,\n",
      "         -8.1243e+00, -8.4975e+00, -8.5889e+00, -7.7946e+00, -9.2539e+00,\n",
      "         -6.3477e+00, -2.1958e+00, -6.4322e+00, -5.7570e+00, -7.8203e+00,\n",
      "         -6.9660e+00, -6.5047e+00, -7.0825e+00, -7.0545e+00, -7.2734e+00,\n",
      "         -4.5859e-03, -3.4281e+00,  2.5745e+00, -5.1820e+00, -3.0620e+00,\n",
      "         -6.1087e+00, -3.4391e+00, -3.8834e+00, -5.6927e+00, -6.1381e+00,\n",
      "         -4.6189e+00, -5.9074e+00,  1.1066e-01, -3.9634e+00, -6.0663e+00,\n",
      "         -2.1983e+00, -1.0700e+00, -1.0655e+00, -4.6057e+00,  2.5624e+00,\n",
      "         -4.6132e+00, -4.3042e+00, -6.1032e+00, -5.1508e+00, -5.4636e+00,\n",
      "         -4.2930e+00, -6.3541e+00, -7.3043e+00, -6.1387e+00, -1.2224e+00,\n",
      "         -7.1127e+00, -4.1152e+00, -5.4304e+00, -8.0563e+00, -6.7456e+00,\n",
      "         -6.4555e+00, -8.5198e+00, -6.6078e+00, -7.8773e+00, -6.6828e+00,\n",
      "         -5.9788e+00, -8.5357e+00, -6.9493e+00, -8.4013e+00, -6.5563e+00,\n",
      "         -8.1844e+00, -7.4561e+00, -5.8651e+00, -8.3251e+00, -6.6205e+00,\n",
      "         -8.0913e+00, -6.3477e+00]], grad_fn=<CloneBackward0>)\n"
     ]
    }
   ],
   "source": [
    "print(start_probs)"
   ]
  },
  {
   "cell_type": "code",
   "execution_count": 40,
   "id": "2ab7ac81",
   "metadata": {},
   "outputs": [
    {
     "name": "stdout",
     "output_type": "stream",
     "text": [
      "tensor(22)\n"
     ]
    }
   ],
   "source": [
    "start_index = torch.argmax(start_probs)\n",
    "end_index = torch.argmax(end_probs)\n",
    "print(start_index)"
   ]
  },
  {
   "cell_type": "code",
   "execution_count": 41,
   "id": "9a355876",
   "metadata": {},
   "outputs": [],
   "source": [
    "answer = ' '.join(token_to_ids[start_index : end_index+1])"
   ]
  },
  {
   "cell_type": "code",
   "execution_count": 42,
   "id": "f169f943",
   "metadata": {},
   "outputs": [
    {
     "name": "stdout",
     "output_type": "stream",
     "text": [
      "24 - layers and an em ##bed ##ding size of 102 ##4 , for a total of 340 ##m para ##mt ##ers\n"
     ]
    }
   ],
   "source": [
    "print(answer)"
   ]
  },
  {
   "cell_type": "code",
   "execution_count": 43,
   "id": "4b6a2916",
   "metadata": {},
   "outputs": [
    {
     "name": "stdout",
     "output_type": "stream",
     "text": [
      "24 - layers and an embedding size of 1024 , for a total of 340m paramters\n"
     ]
    }
   ],
   "source": [
    "answer = token_to_ids[start_index]\n",
    "for i in range(start_index+1, end_index+1):\n",
    "    if token_to_ids[i][0:2] == '##':\n",
    "        answer+=token_to_ids[i][2:]\n",
    "    else:\n",
    "        answer+=' '+token_to_ids[i]\n",
    "print(answer)"
   ]
  },
  {
   "cell_type": "code",
   "execution_count": 44,
   "id": "8a9b7814",
   "metadata": {},
   "outputs": [],
   "source": [
    "labels = []\n",
    "for (ids, token) in enumerate(token_to_ids):\n",
    "    labels.append('{:} - {:>2}'.format(token, ids))"
   ]
  },
  {
   "cell_type": "code",
   "execution_count": 45,
   "id": "0e0d1de6",
   "metadata": {},
   "outputs": [],
   "source": [
    "import matplotlib.pyplot as plt\n",
    "import seaborn as sns"
   ]
  },
  {
   "cell_type": "code",
   "execution_count": 46,
   "id": "a40ca076",
   "metadata": {},
   "outputs": [
    {
     "data": {
      "text/plain": [
       "<Figure size 1600x1600 with 0 Axes>"
      ]
     },
     "execution_count": 46,
     "metadata": {},
     "output_type": "execute_result"
    },
    {
     "data": {
      "text/plain": [
       "<Figure size 1600x1600 with 0 Axes>"
      ]
     },
     "metadata": {},
     "output_type": "display_data"
    }
   ],
   "source": [
    "plt.figure(figsize=(16, 16))"
   ]
  },
  {
   "cell_type": "code",
   "execution_count": 48,
   "id": "e9f4d21f",
   "metadata": {},
   "outputs": [
    {
     "name": "stderr",
     "output_type": "stream",
     "text": [
      "/var/folders/cj/0w5hsz6d7hsgpdmwp3dwlw2w0000gn/T/ipykernel_23693/2006722649.py:3: UserWarning: set_ticklabels() should only be used with a fixed number of ticks, i.e. after set_ticks() or using a FixedLocator.\n",
      "  ax.set_xticklabels(ax.get_xticklabels(), rotation = 90, ha = \"center\")\n"
     ]
    },
    {
     "data": {
      "image/png": "[encoded data removed]",
      "text/plain": [
       "<Figure size 640x480 with 1 Axes>"
      ]
     },
     "metadata": {},
     "output_type": "display_data"
    }
   ],
   "source": [
    "s = start_probs.detach().numpy().flatten()\n",
    "ax = sns.barplot(x = token_to_ids, y = s, errorbar = None)\n",
    "ax.set_xticklabels(ax.get_xticklabels(), rotation = 90, ha = \"center\")\n",
    "ax.grid(True)"
   ]
  },
  {
   "cell_type": "code",
   "execution_count": null,
   "id": "b7ab14fc",
   "metadata": {},
   "outputs": [],
   "source": []
  }
 ],
 "metadata": {
  "kernelspec": {
   "display_name": "Python 3 (ipykernel)",
   "language": "python",
   "name": "python3"
  },
  "language_info": {
   "codemirror_mode": {
    "name": "ipython",
    "version": 3
   },
   "file_extension": ".py",
   "mimetype": "text/x-python",
   "name": "python",
   "nbconvert_exporter": "python",
   "pygments_lexer": "ipython3",
   "version": "3.12.2"
  }
 },
 "nbformat": 4,
 "nbformat_minor": 5
}
