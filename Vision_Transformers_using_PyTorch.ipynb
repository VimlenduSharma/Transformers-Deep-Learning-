{
  "nbformat": 4,
  "nbformat_minor": 0,
  "metadata": {
    "colab": {
      "provenance": [],
      "gpuType": "T4"
    },
    "kernelspec": {
      "name": "python3",
      "display_name": "Python 3"
    },
    "language_info": {
      "name": "python"
    },
    "accelerator": "GPU"
  },
  "cells": [
    {
      "cell_type": "code",
      "execution_count": 15,
      "metadata": {
        "id": "TqPQVjQ6logw"
      },
      "outputs": [],
      "source": [
        "import torch\n",
        "import torch.nn as nn\n",
        "import torch.nn.functional as F\n",
        "import random\n",
        "import numpy as np"
      ]
    },
    {
      "cell_type": "code",
      "source": [
        "random_seed = 42\n",
        "batch_size = 512\n",
        "epochs = 40\n",
        "learning_rate = 1e-4\n",
        "num_classes = 10\n",
        "patch_size = 4\n",
        "img_size = 28\n",
        "in_channels = 1\n",
        "num_heads = 8\n",
        "dropout = 0.001\n",
        "adam_weight_decay = 0\n",
        "adam_betas = (0.9, 0.999)\n",
        "num_encoders = 4\n",
        "embed_dim = (patch_size ** 2) * in_channels # 16\n",
        "num_patches = (img_size // patch_size) ** 2 # 49\n",
        "\n",
        "# Expansion of the MLP\n",
        "expansion = 128\n",
        "\n",
        "random.seed(random_seed)\n",
        "np.random.seed(random_seed)\n",
        "torch.manual_seed(random_seed)\n",
        "torch.cuda.manual_seed(random_seed)\n",
        "torch.cuda.manual_seed_all(random_seed)\n",
        "torch.backends.cudnn.deterministic = True\n",
        "torch.backends.cudnn.benchmark = False\n",
        "device = \"cuda\" if torch.cuda.is_available() else \"cpu\"\n"
      ],
      "metadata": {
        "id": "eR5oPwI4nZP5"
      },
      "execution_count": 16,
      "outputs": []
    },
    {
      "cell_type": "code",
      "source": [
        "class PatchEmbedding(nn.Module):\n",
        "    def __init__(self, embed_dim, patch_size, num_patches, dropout, in_channels):\n",
        "        super().__init__()\n",
        "        self.patcher = nn.Sequential(\n",
        "            # We use conv instead of linear for efficiency\n",
        "            nn.Conv2d(\n",
        "                in_channels=in_channels,\n",
        "                out_channels=embed_dim,\n",
        "                # if kernel_size = stride -> no overlap\n",
        "                kernel_size=patch_size,\n",
        "                stride=patch_size\n",
        "            ),\n",
        "            # Linear projection of Flattened Patches. We keep the batch and we channels (b,c,h,w)\n",
        "            nn.Flatten(2))\n",
        "        self.cls_token = nn.Parameter(torch.randn(size=(1, 1, embed_dim)), requires_grad=True)\n",
        "        self.position_embeddings = nn.Parameter(torch.randn(size=(1, num_patches+1, embed_dim)), requires_grad=True)\n",
        "        self.dropout = nn.Dropout(p=dropout)\n",
        "\n",
        "    def forward(self, x):\n",
        "        # Create a copy of the cls token for each of the elements of the BATCH\n",
        "        cls_token = self.cls_token.expand(x.shape[0], -1, -1)\n",
        "        # Create the patches\n",
        "        x = self.patcher(x).permute(0, 2, 1)\n",
        "        # Unify the position with the patches\n",
        "        x = torch.cat([cls_token, x], dim=1)\n",
        "        # Patch + Position Embedding\n",
        "        x = self.position_embeddings + x\n",
        "        x = self.dropout(x)\n",
        "        return x\n",
        "\n",
        "patchemb = PatchEmbedding(embed_dim, patch_size, num_patches, dropout, in_channels).to(device)\n",
        "x = torch.randn(512, 1, 28, 28).to(device)"
      ],
      "metadata": {
        "id": "KzlB6TLLlRrx"
      },
      "execution_count": 17,
      "outputs": []
    },
    {
      "cell_type": "code",
      "source": [
        "class MultiHeadSelfAttention(nn.Module):\n",
        "  def __init__(self, embed_dim, num_heads, dropout=0.1):\n",
        "    super().__init__()\n",
        "    self.attn=nn.MultiheadAttention(embed_dim, num_heads, dropout=dropout)\n",
        "    self.norm=nn.LayerNorm(embed_dim)\n",
        "    self.dropout=nn.Dropout(dropout)\n",
        "\n",
        "  def forward(self, x):\n",
        "    x=x.transpose(0, 1) #req_by_multi_head_Attention\n",
        "    attn_output, _ = self.attn(x, x, x)\n",
        "    x=x+self.dropout(attn_output)\n",
        "    x=x.transpose(0, 1)\n",
        "    return self.norm(x)"
      ],
      "metadata": {
        "id": "2ft2Sd26mfi6"
      },
      "execution_count": 18,
      "outputs": []
    },
    {
      "cell_type": "code",
      "source": [
        "class TransformerEncoderLayer(nn.Module):\n",
        "  def __init__(self, embed_dim, num_heads, expansion=4, dropout=0.1):\n",
        "    super().__init__()\n",
        "    self.attention=MultiHeadSelfAttention(embed_dim, num_heads, dropout)\n",
        "    self.mlp=MLP(embed_dim, expansion, dropout)\n",
        "    self.norm1=nn.LayerNorm(embed_dim)\n",
        "    self.norm2=nn.LayerNorm(embed_dim)\n",
        "  def forward(self, x):\n",
        "    x=x+self.attention(x)\n",
        "    x=self.norm1(x)\n",
        "    x=x+self.mlp(x)\n",
        "    x=self.norm2(x)\n",
        "    return self.norm(x)"
      ],
      "metadata": {
        "id": "4vRJAh7Env1y"
      },
      "execution_count": 19,
      "outputs": []
    },
    {
      "cell_type": "code",
      "source": [
        "class VisionTransformer(nn.Module):\n",
        "  def __init__(self, img_size, patch_size, in_channels, num_classes, embed_dim, num_heads, num_layers, expansion=4, dropout=0.1):\n",
        "    super().__init__()\n",
        "    self.patch_embed=PatchEmbedding(img_size, patch_size, in_channels, embed_dim)\n",
        "    self.cls_token=nn.Parameter(torch.zeros(1, 1, embed_dim)) #class_token\n",
        "    self.pos_embed=nn.Parameter(torch.zeros(1, self.patch_embed.n_patches+1, embed_dim)) #positional_embedding\n",
        "\n",
        "    self.transformer_encoders=nn.ModuleList(\n",
        "        [TransformerEncoderLayer(embed_dim, num_heads, expansion, dropout) for _ in range(num_layers)]\n",
        "    )\n",
        "\n",
        "    self.mlp_head=nn.Sequential(\n",
        "        nn.LayerNorm(embed_dim),\n",
        "        nn.Linear(embed_dim, num_classes)\n",
        "    )\n",
        "\n",
        "  def forward(self, x):\n",
        "    batch_size=x.shape[0]\n",
        "    x=self.patch_embed(x) #(batch_size, n_patches, embed_dim)\n",
        "\n",
        "    cls_token=self.cls_token.expand(batch_size, -1, -1) #(batch_size, 1, embed_dim)\n",
        "    x=torch.cat((cls_token, x), dim=1) #add_class_token_to_patch_embeddings\n",
        "\n",
        "    x=x+self.pos_embed #add_positional_embedding\n",
        "    for layer in self.transformer_encoders:\n",
        "      x=layer(x)\n",
        "\n",
        "\n",
        "    cls_output=x[:, 0]\n",
        "    return self.mlp_head(cls_output)"
      ],
      "metadata": {
        "id": "1GY7oa50ouHV"
      },
      "execution_count": 20,
      "outputs": []
    },
    {
      "cell_type": "code",
      "source": [
        "#from_scratch_(using nn.MultiheadAttention)_to_explore_the_nature_of_this_component\n",
        "\n",
        "class MLP(nn.Module):\n",
        "  def __init__(self, embed_dim, expansion, dropout):\n",
        "    super().__init__()\n",
        "    self.fc1=nn.Linear(embed_dim, embed_dim*expansion)\n",
        "    self.gelu=nn.GELU()\n",
        "    self.dropout1=nn.Dropout(dropout)\n",
        "    self.fc2=nn.Linear(embed_dim*expansion, embed_dim)\n",
        "    self.dropout2=nn.Dropout(dropout)\n",
        "  def forward(self, x):\n",
        "    x=self.fc1(x)\n",
        "    x=self.gelu(x)\n",
        "    x=self.dropout1(x)\n",
        "    x=self.fc2(x)\n",
        "    x=self.dropout2(x)\n",
        "    return x\n",
        "    #x=self.fc2(self.dropout1(self.gelu(self.fc1(x))))\n",
        "    #return self.dropout2(x)"
      ],
      "metadata": {
        "id": "N6RPBTPettQq"
      },
      "execution_count": 21,
      "outputs": []
    },
    {
      "cell_type": "code",
      "source": [
        "#MultiheadAttention_to_normalized_value_add_resulting_output_original_value_(without normalization)_forms_first_skip_connection\n",
        "#then_take_output_from_first_step_pass_it_to_normalise_through_MLP_add_this_result_to_original_output_from_first_step_create_second_skip_connection\n",
        "#after_each_skip_connection_dropout_is_applied\n",
        "\n",
        "class TransformerEncoderLayer(nn.Module):\n",
        "    def __init__(self, embed_dim, num_heads, expansion, dropout):\n",
        "        super().__init__()\n",
        "        self.norm1 = nn.LayerNorm(embed_dim)\n",
        "        self.MHA = nn.MultiheadAttention(embed_dim, num_heads, dropout, batch_first=True)\n",
        "        self.dropout = nn.Dropout(dropout)\n",
        "        self.norm2 = nn.LayerNorm(embed_dim)\n",
        "        self.mlp = MLP(embed_dim, expansion, dropout)\n",
        "\n",
        "\n",
        "    def forward(self, x):\n",
        "        norm1 = self.norm1(x)\n",
        "        # Skip connection 1\n",
        "        x = x + self.MHA(norm1, norm1, norm1)[0]\n",
        "        x = self.dropout(x)\n",
        "\n",
        "        norm2 = self.norm2(x)\n",
        "        # Skip connection 2\n",
        "        x = x + self.mlp(norm2)\n",
        "        x = self.dropout(x)\n",
        "\n",
        "        return x\n"
      ],
      "metadata": {
        "id": "FAsIjXOYy2yv"
      },
      "execution_count": 22,
      "outputs": []
    },
    {
      "cell_type": "code",
      "source": [
        "#for_Transformer_Encoder_blocks_in_Series\n",
        "\n",
        "class TransformerEncoder(nn.Sequential):\n",
        "  def __init__(self, embed_dim, num_heads, expansion, dropout, num_encoders):\n",
        "    super().__init__(*[\n",
        "        TransformerEncoderLayer(embed_dim, num_heads, expansion, dropout)\n",
        "        for _ in range(num_encoders)\n",
        "    ])"
      ],
      "metadata": {
        "id": "VBDWm6fvH2Xr"
      },
      "execution_count": 23,
      "outputs": []
    },
    {
      "cell_type": "code",
      "source": [
        "#for_better_understanding\n",
        "class TransformerEncoder(nn.Module):\n",
        "  def __init__(self, embed_dim, num_heads, expansion, dropout, num_encoders):\n",
        "    super().__init__()\n",
        "    self.layers=nn.ModuleList([TransformerEncoderLayer(embed_dim, num_heads, expansion, dropout) for _ in range(num_encoders)])\n",
        "  def forward(self, x):\n",
        "    for layer in self.layers:\n",
        "      x=layer(x)\n",
        "    return x"
      ],
      "metadata": {
        "id": "eCfttCqoJmTA"
      },
      "execution_count": 24,
      "outputs": []
    },
    {
      "cell_type": "code",
      "source": [
        "class ViT_scratch_without_MHA(nn.Module):\n",
        "    def __init__(self, embed_dim, patch_size, num_patches, dropout, in_channels, num_heads, num_encoders, expansion, num_classes):\n",
        "        super().__init__()\n",
        "        self.embedded_patches = PatchEmbedding(embed_dim, patch_size, num_patches, dropout, in_channels)\n",
        "\n",
        "        self.transformer_encoder =  TransformerEncoder(embed_dim, num_heads, expansion, dropout, num_encoders)\n",
        "\n",
        "        self.mlp_head = nn.Sequential(\n",
        "            nn.LayerNorm(normalized_shape=embed_dim),\n",
        "            nn.Linear(in_features=embed_dim, out_features=num_classes)\n",
        "        )\n",
        "\n",
        "    def forward(self, x):\n",
        "        x = self.embedded_patches(x)\n",
        "        x = self.transformer_encoder(x)\n",
        "        x = self.mlp_head(x[:,0,:])\n",
        "        return x"
      ],
      "metadata": {
        "id": "euCEA4huOEmf"
      },
      "execution_count": 25,
      "outputs": []
    },
    {
      "cell_type": "code",
      "source": [
        "model2 = ViT_scratch_without_MHA(embed_dim, patch_size, num_patches, dropout, in_channels, num_heads, num_encoders, expansion, num_classes).to(device)\n",
        "x = torch.randn(512, 1, 28, 28).to(device)\n",
        "print(model2(x).shape) # BATCH_SIZE X NUM_CLASSES"
      ],
      "metadata": {
        "colab": {
          "base_uri": "https://localhost:8080/"
        },
        "id": "KnOBX7R7RUGq",
        "outputId": "60bead06-9f27-4dc1-eecc-caaf23584e5f"
      },
      "execution_count": 26,
      "outputs": [
        {
          "output_type": "stream",
          "name": "stdout",
          "text": [
            "torch.Size([512, 10])\n"
          ]
        }
      ]
    },
    {
      "cell_type": "code",
      "source": [
        "model2"
      ],
      "metadata": {
        "colab": {
          "base_uri": "https://localhost:8080/"
        },
        "id": "xYwysht3RZD2",
        "outputId": "9db20988-620e-4a8f-d255-f56cfac2cb6f"
      },
      "execution_count": 27,
      "outputs": [
        {
          "output_type": "execute_result",
          "data": {
            "text/plain": [
              "ViT_scratch_without_MHA(\n",
              "  (embedded_patches): PatchEmbedding(\n",
              "    (patcher): Sequential(\n",
              "      (0): Conv2d(1, 16, kernel_size=(4, 4), stride=(4, 4))\n",
              "      (1): Flatten(start_dim=2, end_dim=-1)\n",
              "    )\n",
              "    (dropout): Dropout(p=0.001, inplace=False)\n",
              "  )\n",
              "  (transformer_encoder): TransformerEncoder(\n",
              "    (layers): ModuleList(\n",
              "      (0-3): 4 x TransformerEncoderLayer(\n",
              "        (norm1): LayerNorm((16,), eps=1e-05, elementwise_affine=True)\n",
              "        (MHA): MultiheadAttention(\n",
              "          (out_proj): NonDynamicallyQuantizableLinear(in_features=16, out_features=16, bias=True)\n",
              "        )\n",
              "        (dropout): Dropout(p=0.001, inplace=False)\n",
              "        (norm2): LayerNorm((16,), eps=1e-05, elementwise_affine=True)\n",
              "        (mlp): MLP(\n",
              "          (fc1): Linear(in_features=16, out_features=2048, bias=True)\n",
              "          (gelu): GELU(approximate='none')\n",
              "          (dropout1): Dropout(p=0.001, inplace=False)\n",
              "          (fc2): Linear(in_features=2048, out_features=16, bias=True)\n",
              "          (dropout2): Dropout(p=0.001, inplace=False)\n",
              "        )\n",
              "      )\n",
              "    )\n",
              "  )\n",
              "  (mlp_head): Sequential(\n",
              "    (0): LayerNorm((16,), eps=1e-05, elementwise_affine=True)\n",
              "    (1): Linear(in_features=16, out_features=10, bias=True)\n",
              "  )\n",
              ")"
            ]
          },
          "metadata": {},
          "execution_count": 27
        }
      ]
    },
    {
      "cell_type": "code",
      "source": [
        "import torchvision\n",
        "!pip install torchinfo\n",
        "from torchinfo import summary\n"
      ],
      "metadata": {
        "colab": {
          "base_uri": "https://localhost:8080/"
        },
        "id": "EoL_du_pVIi2",
        "outputId": "4d9f014f-1786-47d2-c0c9-fff36660b31e"
      },
      "execution_count": 28,
      "outputs": [
        {
          "output_type": "stream",
          "name": "stdout",
          "text": [
            "Collecting torchinfo\n",
            "  Downloading torchinfo-1.8.0-py3-none-any.whl.metadata (21 kB)\n",
            "Downloading torchinfo-1.8.0-py3-none-any.whl (23 kB)\n",
            "Installing collected packages: torchinfo\n",
            "Successfully installed torchinfo-1.8.0\n"
          ]
        }
      ]
    },
    {
      "cell_type": "code",
      "source": [
        "print(\"\\nSummary of the model 2 is:\", summary(model2))"
      ],
      "metadata": {
        "colab": {
          "base_uri": "https://localhost:8080/"
        },
        "id": "3xkETfB3h7C5",
        "outputId": "16749953-0f65-449e-d1a9-d84fbd16e906"
      },
      "execution_count": 29,
      "outputs": [
        {
          "output_type": "stream",
          "name": "stdout",
          "text": [
            "\n",
            "Summary of the model 2 is: ==========================================================================================\n",
            "Layer (type:depth-idx)                                            Param #\n",
            "==========================================================================================\n",
            "ViT_scratch_without_MHA                                           --\n",
            "├─PatchEmbedding: 1-1                                             816\n",
            "│    └─Sequential: 2-1                                            --\n",
            "│    │    └─Conv2d: 3-1                                           272\n",
            "│    │    └─Flatten: 3-2                                          --\n",
            "│    └─Dropout: 2-2                                               --\n",
            "├─TransformerEncoder: 1-2                                         --\n",
            "│    └─ModuleList: 2-3                                            --\n",
            "│    │    └─TransformerEncoderLayer: 3-3                          68,752\n",
            "│    │    └─TransformerEncoderLayer: 3-4                          68,752\n",
            "│    │    └─TransformerEncoderLayer: 3-5                          68,752\n",
            "│    │    └─TransformerEncoderLayer: 3-6                          68,752\n",
            "├─Sequential: 1-3                                                 --\n",
            "│    └─LayerNorm: 2-4                                             32\n",
            "│    └─Linear: 2-5                                                170\n",
            "==========================================================================================\n",
            "Total params: 276,298\n",
            "Trainable params: 276,298\n",
            "Non-trainable params: 0\n",
            "==========================================================================================\n"
          ]
        }
      ]
    },
    {
      "cell_type": "code",
      "source": [
        "#load_emnist_dataset\n",
        "import torchvision.transforms as transforms\n",
        "from torchvision.datasets import EMNIST\n",
        "from torch.utils.data import DataLoader, random_split, Subset\n",
        "from sklearn.model_selection import train_test_split\n",
        "train_transform=transforms.Compose([\n",
        "    transforms.RandomRotation(15),#Random_Rotation_for_training_data\n",
        "    transforms.ToTensor(),\n",
        "    transforms.Normalize((0.5,), (0.5,))\n",
        "\n",
        "])\n",
        "val_test_transform=transforms.Compose([\n",
        "    transforms.ToTensor(),\n",
        "    transforms.Normalize((0.5,), (0.5,))\n",
        "])\n",
        "\n",
        "#load_dataset\n",
        "train_data=torchvision.datasets.MNIST(root='./data', train=True, download=True, transform=train_transform)\n",
        "val_data=torchvision.datasets.MNIST(root='./data', train=True, download=True, transform=val_test_transform)\n",
        "test_data=torchvision.datasets.MNIST(root='./data', train=False, download=True, transform=val_test_transform)"
      ],
      "metadata": {
        "colab": {
          "base_uri": "https://localhost:8080/"
        },
        "id": "A0SkYjxLjdhY",
        "outputId": "4ba7432a-0df3-4243-f7d3-e382043755b3"
      },
      "execution_count": 30,
      "outputs": [
        {
          "output_type": "stream",
          "name": "stdout",
          "text": [
            "Downloading http://yann.lecun.com/exdb/mnist/train-images-idx3-ubyte.gz\n",
            "Failed to download (trying next):\n",
            "HTTP Error 403: Forbidden\n",
            "\n",
            "Downloading https://ossci-datasets.s3.amazonaws.com/mnist/train-images-idx3-ubyte.gz\n",
            "Downloading https://ossci-datasets.s3.amazonaws.com/mnist/train-images-idx3-ubyte.gz to ./data/MNIST/raw/train-images-idx3-ubyte.gz\n"
          ]
        },
        {
          "output_type": "stream",
          "name": "stderr",
          "text": [
            "100%|██████████| 9912422/9912422 [00:00<00:00, 16006726.46it/s]\n"
          ]
        },
        {
          "output_type": "stream",
          "name": "stdout",
          "text": [
            "Extracting ./data/MNIST/raw/train-images-idx3-ubyte.gz to ./data/MNIST/raw\n",
            "\n",
            "Downloading http://yann.lecun.com/exdb/mnist/train-labels-idx1-ubyte.gz\n",
            "Failed to download (trying next):\n",
            "HTTP Error 403: Forbidden\n",
            "\n",
            "Downloading https://ossci-datasets.s3.amazonaws.com/mnist/train-labels-idx1-ubyte.gz\n",
            "Downloading https://ossci-datasets.s3.amazonaws.com/mnist/train-labels-idx1-ubyte.gz to ./data/MNIST/raw/train-labels-idx1-ubyte.gz\n"
          ]
        },
        {
          "output_type": "stream",
          "name": "stderr",
          "text": [
            "100%|██████████| 28881/28881 [00:00<00:00, 509637.32it/s]\n"
          ]
        },
        {
          "output_type": "stream",
          "name": "stdout",
          "text": [
            "Extracting ./data/MNIST/raw/train-labels-idx1-ubyte.gz to ./data/MNIST/raw\n",
            "\n",
            "Downloading http://yann.lecun.com/exdb/mnist/t10k-images-idx3-ubyte.gz\n",
            "Failed to download (trying next):\n",
            "HTTP Error 403: Forbidden\n",
            "\n",
            "Downloading https://ossci-datasets.s3.amazonaws.com/mnist/t10k-images-idx3-ubyte.gz\n",
            "Downloading https://ossci-datasets.s3.amazonaws.com/mnist/t10k-images-idx3-ubyte.gz to ./data/MNIST/raw/t10k-images-idx3-ubyte.gz\n"
          ]
        },
        {
          "output_type": "stream",
          "name": "stderr",
          "text": [
            "100%|██████████| 1648877/1648877 [00:00<00:00, 4393926.80it/s]\n"
          ]
        },
        {
          "output_type": "stream",
          "name": "stdout",
          "text": [
            "Extracting ./data/MNIST/raw/t10k-images-idx3-ubyte.gz to ./data/MNIST/raw\n",
            "\n",
            "Downloading http://yann.lecun.com/exdb/mnist/t10k-labels-idx1-ubyte.gz\n",
            "Failed to download (trying next):\n",
            "HTTP Error 403: Forbidden\n",
            "\n",
            "Downloading https://ossci-datasets.s3.amazonaws.com/mnist/t10k-labels-idx1-ubyte.gz\n",
            "Downloading https://ossci-datasets.s3.amazonaws.com/mnist/t10k-labels-idx1-ubyte.gz to ./data/MNIST/raw/t10k-labels-idx1-ubyte.gz\n"
          ]
        },
        {
          "output_type": "stream",
          "name": "stderr",
          "text": [
            "100%|██████████| 4542/4542 [00:00<00:00, 10589510.15it/s]\n"
          ]
        },
        {
          "output_type": "stream",
          "name": "stdout",
          "text": [
            "Extracting ./data/MNIST/raw/t10k-labels-idx1-ubyte.gz to ./data/MNIST/raw\n",
            "\n"
          ]
        }
      ]
    },
    {
      "cell_type": "code",
      "source": [
        "train_dataset=Subset(train_data, range(48000))\n",
        "val_dataset=Subset(val_data, range(48000, len(val_data)))"
      ],
      "metadata": {
        "id": "wLjXv2odmMNY"
      },
      "execution_count": 31,
      "outputs": []
    },
    {
      "cell_type": "code",
      "source": [
        "num_workers=torch.cuda.device_count()*4\n",
        "num_workers"
      ],
      "metadata": {
        "colab": {
          "base_uri": "https://localhost:8080/"
        },
        "id": "lycyXUHTmibY",
        "outputId": "fc026cd2-b9ab-4f9e-a9d4-65911d524ba5"
      },
      "execution_count": 32,
      "outputs": [
        {
          "output_type": "execute_result",
          "data": {
            "text/plain": [
              "4"
            ]
          },
          "metadata": {},
          "execution_count": 32
        }
      ]
    },
    {
      "cell_type": "code",
      "source": [
        "import torch\n",
        "import pandas as pd\n",
        "from torch import nn\n",
        "from torch import optim\n",
        "from torch.utils.data import DataLoader, Dataset\n",
        "from torchvision import transforms\n",
        "from sklearn.model_selection import train_test_split\n",
        "import matplotlib.pyplot as plt\n",
        "import numpy as np\n",
        "import random\n",
        "import timeit\n",
        "from tqdm import tqdm"
      ],
      "metadata": {
        "id": "_Nswm8FRmsSi"
      },
      "execution_count": 33,
      "outputs": []
    },
    {
      "cell_type": "code",
      "source": [
        "train_dataloader=DataLoader(dataset=train_dataset, batch_size=batch_size, shuffle=True, num_workers=num_workers, pin_memory=False)\n",
        "val_dataloader=DataLoader(dataset=val_dataset, batch_size=batch_size, shuffle=True, num_workers=num_workers, pin_memory=False)\n",
        "test_dataloader=DataLoader(dataset=test_data, batch_size=batch_size, shuffle=False, num_workers=num_workers, pin_memory=False)"
      ],
      "metadata": {
        "colab": {
          "base_uri": "https://localhost:8080/"
        },
        "id": "Va8ovYW6rX2G",
        "outputId": "af3ccf56-05a6-4097-cbad-c7d02d2a2301"
      },
      "execution_count": 34,
      "outputs": [
        {
          "output_type": "stream",
          "name": "stderr",
          "text": [
            "/usr/local/lib/python3.10/dist-packages/torch/utils/data/dataloader.py:557: UserWarning: This DataLoader will create 4 worker processes in total. Our suggested max number of worker in current system is 2, which is smaller than what this DataLoader is going to create. Please be aware that excessive worker creation might get DataLoader running slow or even freeze, lower the worker number to avoid potential slowness/freeze if necessary.\n",
            "  warnings.warn(_create_warning_msg(\n"
          ]
        }
      ]
    },
    {
      "cell_type": "code",
      "source": [
        "#training\n",
        "criterion=nn.CrossEntropyLoss()\n",
        "optimizer=optim.Adam(model2.parameters(), betas=adam_betas, lr=learning_rate, weight_decay=adam_weight_decay)"
      ],
      "metadata": {
        "id": "ghkRx2dBr9T1"
      },
      "execution_count": 35,
      "outputs": []
    },
    {
      "cell_type": "code",
      "source": [
        "import torchvision\n",
        "from torch import optim, nn\n",
        "import timeit\n",
        "\n",
        "epochs=50\n",
        "print(\"Showing the first 30 elements of each epoch!\")\n",
        "#save_losses_and_Accuracies_for_plot\n",
        "train_losses=[]\n",
        "train_accuracies=[]\n",
        "val_losses=[]\n",
        "val_accuracies=[]\n",
        "\n",
        "#training\n",
        "start=timeit.default_timer()\n",
        "for epoch in tqdm(range(epochs), position=0, leave=True):\n",
        "  model2.train()\n",
        "  train_labels=[]\n",
        "  train_preds=[]\n",
        "  train_running_loss=0\n",
        "  for idx, (data, target) in enumerate(tqdm(train_dataloader, position=0, leave=True)):\n",
        "    img=data.float().to(device)\n",
        "    label=target.type(torch.uint8).to(device)\n",
        "    optimizer.zero_grad()\n",
        "    y_pred=model2(img)\n",
        "    y_pred_label=torch.argmax(y_pred, dim=1)\n",
        "    train_labels.extend(label.cpu().detach())\n",
        "    train_preds.extend(y_pred_label.cpu().detach())\n",
        "    loss=criterion(y_pred, label)\n",
        "    train_running_loss+=loss.item()\n",
        "    loss.backward()\n",
        "    optimizer.step()\n",
        "\n",
        "  train_loss=train_running_loss/(idx+1)\n",
        "\n",
        "  #saving_metrics_of_training\n",
        "  train_accuracy=sum(1 for x, y in zip(train_preds, train_labels) if x==y) / len(train_labels)\n",
        "  train_losses.append(train_loss)\n",
        "  train_accuracies.append(train_accuracy)\n",
        "\n",
        "  model2.eval()\n",
        "\n",
        "  #validation\n",
        "  val_labels=[]\n",
        "  val_preds=[]\n",
        "  val_running_loss=0\n",
        "  with torch.no_grad():\n",
        "    for idx, (data, target) in enumerate(tqdm(val_dataloader, position=0, leave=True)):\n",
        "      img=data.float().to(device)\n",
        "      label=target.type(torch.uint8).to(device)\n",
        "      y_pred=model2(img)\n",
        "      y_pred_label=torch.argmax(y_pred, dim=1)\n",
        "      val_labels.extend(label.cpu().detach())\n",
        "      val_preds.extend(y_pred_label.cpu().detach())\n",
        "      loss=criterion(y_pred, label)\n",
        "      val_running_loss+=loss.item()\n",
        "\n",
        "  val_loss=val_running_loss / (idx+1)\n",
        "  #saving_metrics_for_validation\n",
        "  val_accuracy=sum(1 for x, y in zip(val_preds, val_labels) if x==y) / len(val_labels)\n",
        "  val_losses.append(val_loss)\n",
        "  val_accuracies.append(val_accuracy)\n",
        "\n",
        "  #show_labels_while_training\n",
        "  train_labels_array=np.array([y.detach().numpy() for y in train_labels])\n",
        "  train_preds_array=np.array([y.detach().numpy() for y in train_preds])\n",
        "  val_labels_array=np.array([y.detach().numpy() for y in val_labels])\n",
        "  val_preds_array=np.array([y.detach().numpy() for y in val_preds])\n",
        "\n",
        "  print(\"*\"* 30)\n",
        "  print(f\"Epoch: {epoch+1}\")\n",
        "  print(\"Training Predictions:\", train_preds_array[:30])\n",
        "  print(\"Training Labels:\", train_labels_array[:30])\n",
        "  print(\"Validation Predictions:\", val_preds_array[:30])\n",
        "  print(\"Validation Labels:\", val_labels_array[:30])\n",
        "  print(\"-\"*30)\n",
        "  print(f\"Train Loss: {train_loss:.4f}\")\n",
        "  print(f\"Valid Loss: {val_loss:.4f}\")\n",
        "  print(f\"Train Accuracy: {train_accuracy:.4f}\")\n",
        "  print(f\"Valid Accuracy: {val_accuracy:.4f}\")\n",
        "  print(\"*\" * 30)\n",
        "\n",
        "stop=timeit.default_timer()\n",
        "print(f\"Training Time: {stop-start:.2f} s\")\n",
        "\n"
      ],
      "metadata": {
        "colab": {
          "base_uri": "https://localhost:8080/"
        },
        "id": "JQIt_wFdsaJW",
        "outputId": "45ae3ece-4d88-4be3-e383-a636ce5d3794"
      },
      "execution_count": 36,
      "outputs": [
        {
          "output_type": "stream",
          "name": "stdout",
          "text": [
            "Showing the first 30 elements of each epoch!\n"
          ]
        },
        {
          "output_type": "stream",
          "name": "stderr",
          "text": [
            "100%|██████████| 94/94 [00:24<00:00,  3.87it/s]\n",
            "100%|██████████| 24/24 [00:03<00:00,  7.72it/s]\n",
            "  2%|▏         | 1/50 [00:28<23:34, 28.87s/it]"
          ]
        },
        {
          "output_type": "stream",
          "name": "stdout",
          "text": [
            "******************************\n",
            "Epoch: 1\n",
            "Training Predictions: [1 1 1 1 1 1 1 1 1 1 1 1 1 1 1 1 1 1 1 1 1 1 1 1 0 1 1 1 1 1]\n",
            "Training Labels: [6 8 6 9 2 1 8 1 7 9 3 4 5 6 7 7 3 9 1 2 0 6 0 0 3 6 7 7 4 8]\n",
            "Validation Predictions: [6 6 3 1 3 7 8 1 1 0 3 0 1 1 1 1 1 3 1 3 1 0 1 1 3 1 1 1 3 0]\n",
            "Validation Labels: [6 2 3 1 5 2 7 7 6 0 3 2 7 2 4 7 1 3 6 3 1 0 5 2 4 2 7 5 2 0]\n",
            "------------------------------\n",
            "Train Loss: 2.2212\n",
            "Valid Loss: 1.8724\n",
            "Train Accuracy: 0.1709\n",
            "Valid Accuracy: 0.2894\n",
            "******************************\n"
          ]
        },
        {
          "output_type": "stream",
          "name": "stderr",
          "text": [
            "100%|██████████| 94/94 [00:18<00:00,  5.22it/s]\n",
            "100%|██████████| 24/24 [00:04<00:00,  5.22it/s]\n",
            "  4%|▍         | 2/50 [00:53<21:15, 26.57s/it]"
          ]
        },
        {
          "output_type": "stream",
          "name": "stdout",
          "text": [
            "******************************\n",
            "Epoch: 2\n",
            "Training Predictions: [3 0 3 3 1 3 8 2 1 1 3 1 3 3 8 7 1 1 3 8 0 1 3 0 7 3 3 3 3 3]\n",
            "Training Labels: [8 4 4 6 1 5 0 2 4 9 5 1 5 3 3 6 5 9 9 2 0 2 0 0 7 5 3 8 0 8]\n",
            "Validation Predictions: [3 7 3 9 0 0 8 3 3 6 3 1 3 7 4 3 9 6 4 8 0 3 7 9 1 9 8 7 7 2]\n",
            "Validation Labels: [8 2 3 9 0 0 8 8 3 6 3 2 5 3 4 0 9 2 4 8 0 3 7 4 9 9 8 7 7 2]\n",
            "------------------------------\n",
            "Train Loss: 1.6378\n",
            "Valid Loss: 1.2987\n",
            "Train Accuracy: 0.4637\n",
            "Valid Accuracy: 0.6364\n",
            "******************************\n"
          ]
        },
        {
          "output_type": "stream",
          "name": "stderr",
          "text": [
            "100%|██████████| 94/94 [00:17<00:00,  5.45it/s]\n",
            "100%|██████████| 24/24 [00:02<00:00,  9.54it/s]\n",
            "  6%|▌         | 3/50 [01:14<18:44, 23.92s/it]"
          ]
        },
        {
          "output_type": "stream",
          "name": "stdout",
          "text": [
            "******************************\n",
            "Epoch: 3\n",
            "Training Predictions: [2 4 3 8 5 1 3 4 8 8 4 9 0 3 0 2 1 0 0 1 4 9 1 8 7 3 1 3 2 9]\n",
            "Training Labels: [2 4 5 5 9 8 8 9 8 8 4 6 0 5 0 2 1 0 0 1 4 9 5 8 2 3 1 3 2 9]\n",
            "Validation Predictions: [7 7 3 2 8 5 1 2 8 9 6 4 9 0 9 9 6 4 3 9 9 2 4 8 4 4 5 8 3 0]\n",
            "Validation Labels: [3 9 5 2 8 5 1 2 8 4 6 4 4 0 4 9 6 4 8 4 9 2 4 8 4 9 5 8 0 0]\n",
            "------------------------------\n",
            "Train Loss: 1.3178\n",
            "Valid Loss: 1.0923\n",
            "Train Accuracy: 0.6251\n",
            "Valid Accuracy: 0.7292\n",
            "******************************\n"
          ]
        },
        {
          "output_type": "stream",
          "name": "stderr",
          "text": [
            "100%|██████████| 94/94 [00:16<00:00,  5.53it/s]\n",
            "100%|██████████| 24/24 [00:02<00:00,  9.40it/s]\n",
            "  8%|▊         | 4/50 [01:35<17:18, 22.58s/it]"
          ]
        },
        {
          "output_type": "stream",
          "name": "stdout",
          "text": [
            "******************************\n",
            "Epoch: 4\n",
            "Training Predictions: [2 5 7 7 2 7 9 6 2 1 1 0 6 6 3 3 2 7 3 1 1 8 2 1 7 6 2 7 6 0]\n",
            "Training Labels: [2 0 7 7 2 7 9 2 3 6 1 0 6 6 8 3 2 7 5 1 7 2 6 1 7 6 2 7 6 7]\n",
            "Validation Predictions: [2 7 5 3 1 0 0 2 7 1 1 4 2 7 1 1 1 1 2 9 9 0 2 6 5 6 2 3 8 6]\n",
            "Validation Labels: [2 7 5 3 1 0 3 2 7 5 1 4 2 7 1 1 1 1 2 9 4 0 8 6 5 6 2 5 8 6]\n",
            "------------------------------\n",
            "Train Loss: 1.1396\n",
            "Valid Loss: 0.9427\n",
            "Train Accuracy: 0.6994\n",
            "Valid Accuracy: 0.7944\n",
            "******************************\n"
          ]
        },
        {
          "output_type": "stream",
          "name": "stderr",
          "text": [
            "100%|██████████| 94/94 [00:17<00:00,  5.45it/s]\n",
            "100%|██████████| 24/24 [00:03<00:00,  6.13it/s]\n",
            " 10%|█         | 5/50 [01:57<16:52, 22.49s/it]"
          ]
        },
        {
          "output_type": "stream",
          "name": "stdout",
          "text": [
            "******************************\n",
            "Epoch: 5\n",
            "Training Predictions: [7 6 6 7 2 6 5 0 9 8 2 6 0 8 2 6 7 7 8 5 4 5 3 6 3 6 4 4 7 4]\n",
            "Training Labels: [3 0 6 7 2 2 3 3 9 7 2 6 0 8 2 6 7 7 8 5 4 3 3 6 3 6 4 4 7 4]\n",
            "Validation Predictions: [3 1 0 2 6 6 8 3 1 5 8 3 7 1 0 6 5 0 8 8 4 7 4 3 6 5 3 3 9 4]\n",
            "Validation Labels: [3 1 0 2 6 6 8 3 1 5 8 3 7 7 0 6 5 0 8 8 9 7 4 3 6 5 3 5 9 4]\n",
            "------------------------------\n",
            "Train Loss: 1.0115\n",
            "Valid Loss: 0.8481\n",
            "Train Accuracy: 0.7449\n",
            "Valid Accuracy: 0.8155\n",
            "******************************\n"
          ]
        },
        {
          "output_type": "stream",
          "name": "stderr",
          "text": [
            "100%|██████████| 94/94 [00:16<00:00,  5.64it/s]\n",
            "100%|██████████| 24/24 [00:02<00:00,  9.25it/s]\n",
            " 12%|█▏        | 6/50 [02:17<15:56, 21.73s/it]"
          ]
        },
        {
          "output_type": "stream",
          "name": "stdout",
          "text": [
            "******************************\n",
            "Epoch: 6\n",
            "Training Predictions: [4 2 3 8 7 7 3 3 5 4 4 0 7 0 0 1 7 6 3 1 1 2 1 6 8 8 0 7 8 7]\n",
            "Training Labels: [4 2 3 8 7 7 3 3 5 9 9 0 7 0 0 1 7 6 3 1 1 2 1 6 2 4 0 7 8 7]\n",
            "Validation Predictions: [3 4 0 1 1 6 1 6 8 8 7 8 0 8 3 0 5 1 6 7 9 6 4 7 1 2 3 3 7 7]\n",
            "Validation Labels: [5 4 0 1 1 6 1 6 8 2 7 8 0 8 3 0 5 1 6 1 9 6 4 7 1 2 3 5 7 7]\n",
            "------------------------------\n",
            "Train Loss: 0.9131\n",
            "Valid Loss: 0.7745\n",
            "Train Accuracy: 0.7757\n",
            "Valid Accuracy: 0.8250\n",
            "******************************\n"
          ]
        },
        {
          "output_type": "stream",
          "name": "stderr",
          "text": [
            "100%|██████████| 94/94 [00:17<00:00,  5.45it/s]\n",
            "100%|██████████| 24/24 [00:02<00:00,  9.31it/s]\n",
            " 14%|█▍        | 7/50 [02:38<15:21, 21.43s/it]"
          ]
        },
        {
          "output_type": "stream",
          "name": "stdout",
          "text": [
            "******************************\n",
            "Epoch: 7\n",
            "Training Predictions: [2 6 0 7 8 7 3 1 6 0 6 4 3 2 2 3 9 3 3 2 7 5 5 7 0 4 0 4 1 8]\n",
            "Training Labels: [3 6 0 2 8 7 5 1 6 4 6 4 3 2 2 8 4 3 3 5 7 6 0 7 0 4 0 4 1 8]\n",
            "Validation Predictions: [2 2 1 7 7 2 4 8 5 1 4 3 4 1 7 8 8 8 7 0 9 0 3 1 9 1 4 6 1 3]\n",
            "Validation Labels: [2 2 1 7 7 2 4 8 5 1 4 3 4 1 7 8 8 8 7 0 9 0 5 1 9 1 4 6 1 3]\n",
            "------------------------------\n",
            "Train Loss: 0.8275\n",
            "Valid Loss: 0.6824\n",
            "Train Accuracy: 0.7973\n",
            "Valid Accuracy: 0.8521\n",
            "******************************\n"
          ]
        },
        {
          "output_type": "stream",
          "name": "stderr",
          "text": [
            "100%|██████████| 94/94 [00:17<00:00,  5.38it/s]\n",
            "100%|██████████| 24/24 [00:03<00:00,  6.34it/s]\n",
            " 16%|█▌        | 8/50 [03:00<15:11, 21.69s/it]"
          ]
        },
        {
          "output_type": "stream",
          "name": "stdout",
          "text": [
            "******************************\n",
            "Epoch: 8\n",
            "Training Predictions: [1 2 7 4 7 0 1 4 6 3 1 7 9 6 7 7 1 3 4 8 7 4 5 9 8 8 1 2 9 2]\n",
            "Training Labels: [1 2 7 9 7 0 1 4 6 3 1 7 9 6 7 7 1 3 4 8 7 9 5 9 8 8 9 2 9 5]\n",
            "Validation Predictions: [0 3 1 9 7 0 2 8 1 7 3 1 1 8 7 5 9 3 1 4 7 0 0 2 4 0 1 0 4 9]\n",
            "Validation Labels: [0 3 1 9 7 0 3 8 1 7 8 1 1 8 7 5 7 3 1 4 7 0 0 2 4 0 1 0 4 0]\n",
            "------------------------------\n",
            "Train Loss: 0.7566\n",
            "Valid Loss: 0.6156\n",
            "Train Accuracy: 0.8169\n",
            "Valid Accuracy: 0.8714\n",
            "******************************\n"
          ]
        },
        {
          "output_type": "stream",
          "name": "stderr",
          "text": [
            "100%|██████████| 94/94 [00:17<00:00,  5.36it/s]\n",
            "100%|██████████| 24/24 [00:02<00:00,  9.14it/s]\n",
            " 18%|█▊        | 9/50 [03:21<14:42, 21.53s/it]"
          ]
        },
        {
          "output_type": "stream",
          "name": "stdout",
          "text": [
            "******************************\n",
            "Epoch: 9\n",
            "Training Predictions: [6 8 5 8 1 9 9 3 3 1 3 9 6 0 9 5 6 8 3 7 0 0 7 2 4 2 1 7 2 7]\n",
            "Training Labels: [6 8 5 5 1 9 9 5 3 1 3 9 6 0 9 5 6 8 8 7 0 0 7 2 4 2 1 7 2 7]\n",
            "Validation Predictions: [1 1 5 0 1 8 4 3 9 2 6 4 4 9 0 8 1 0 6 5 6 4 4 6 0 8 6 3 5 6]\n",
            "Validation Labels: [1 5 5 5 1 8 4 3 9 2 6 4 2 9 3 8 1 0 5 5 6 4 4 6 5 8 6 3 5 6]\n",
            "------------------------------\n",
            "Train Loss: 0.6980\n",
            "Valid Loss: 0.5579\n",
            "Train Accuracy: 0.8295\n",
            "Valid Accuracy: 0.8842\n",
            "******************************\n"
          ]
        },
        {
          "output_type": "stream",
          "name": "stderr",
          "text": [
            "100%|██████████| 94/94 [00:17<00:00,  5.46it/s]\n",
            "100%|██████████| 24/24 [00:02<00:00,  9.31it/s]\n",
            " 20%|██        | 10/50 [03:42<14:12, 21.30s/it]"
          ]
        },
        {
          "output_type": "stream",
          "name": "stdout",
          "text": [
            "******************************\n",
            "Epoch: 10\n",
            "Training Predictions: [8 3 9 0 4 2 0 4 7 6 5 0 6 6 2 2 5 7 3 2 2 0 0 6 8 3 6 0 5 2]\n",
            "Training Labels: [3 3 9 0 4 2 0 9 7 6 5 0 6 6 2 2 5 7 9 2 2 0 0 6 8 3 6 0 3 2]\n",
            "Validation Predictions: [9 3 3 1 8 4 8 2 5 8 3 7 9 3 1 6 6 7 4 4 5 4 0 3 5 5 3 2 6 2]\n",
            "Validation Labels: [9 5 3 1 8 4 1 2 5 8 3 7 4 5 1 6 8 7 4 4 5 9 0 3 5 5 3 2 6 2]\n",
            "------------------------------\n",
            "Train Loss: 0.6533\n",
            "Valid Loss: 0.5373\n",
            "Train Accuracy: 0.8371\n",
            "Valid Accuracy: 0.8817\n",
            "******************************\n"
          ]
        },
        {
          "output_type": "stream",
          "name": "stderr",
          "text": [
            "100%|██████████| 94/94 [00:16<00:00,  5.55it/s]\n",
            "100%|██████████| 24/24 [00:03<00:00,  7.02it/s]\n",
            " 22%|██▏       | 11/50 [04:04<13:56, 21.44s/it]"
          ]
        },
        {
          "output_type": "stream",
          "name": "stdout",
          "text": [
            "******************************\n",
            "Epoch: 11\n",
            "Training Predictions: [1 2 1 2 5 5 3 6 5 2 5 4 4 0 6 8 9 8 4 6 0 7 1 9 8 0 3 7 3 1]\n",
            "Training Labels: [1 2 1 2 8 5 3 6 5 2 5 4 4 3 6 8 9 3 4 6 0 7 1 9 8 0 3 7 7 1]\n",
            "Validation Predictions: [8 1 6 1 5 9 0 7 3 4 6 2 6 9 9 3 7 8 0 3 4 3 1 8 4 7 1 9 3 1]\n",
            "Validation Labels: [8 1 6 1 2 9 0 7 3 4 6 2 6 9 9 3 7 8 0 8 4 3 1 8 4 7 1 9 3 1]\n",
            "------------------------------\n",
            "Train Loss: 0.5980\n",
            "Valid Loss: 0.4676\n",
            "Train Accuracy: 0.8540\n",
            "Valid Accuracy: 0.9014\n",
            "******************************\n"
          ]
        },
        {
          "output_type": "stream",
          "name": "stderr",
          "text": [
            "100%|██████████| 94/94 [00:16<00:00,  5.71it/s]\n",
            "100%|██████████| 24/24 [00:02<00:00,  8.49it/s]\n",
            " 24%|██▍       | 12/50 [04:24<13:18, 21.02s/it]"
          ]
        },
        {
          "output_type": "stream",
          "name": "stdout",
          "text": [
            "******************************\n",
            "Epoch: 12\n",
            "Training Predictions: [0 1 8 4 5 3 9 2 7 1 6 1 2 2 0 2 4 6 2 9 4 6 6 7 7 8 4 6 0 4]\n",
            "Training Labels: [3 1 8 4 6 3 9 6 7 1 6 1 2 3 0 2 4 6 2 9 4 6 6 7 7 8 4 6 0 9]\n",
            "Validation Predictions: [4 4 2 3 5 1 1 6 8 8 9 9 5 5 7 7 5 2 0 9 9 8 1 2 2 6 1 8 8 1]\n",
            "Validation Labels: [9 4 2 3 5 1 1 6 8 8 9 9 5 5 7 2 5 2 0 9 9 8 1 2 2 6 1 8 8 1]\n",
            "------------------------------\n",
            "Train Loss: 0.5481\n",
            "Valid Loss: 0.4384\n",
            "Train Accuracy: 0.8664\n",
            "Valid Accuracy: 0.9089\n",
            "******************************\n"
          ]
        },
        {
          "output_type": "stream",
          "name": "stderr",
          "text": [
            "100%|██████████| 94/94 [00:16<00:00,  5.54it/s]\n",
            "100%|██████████| 24/24 [00:02<00:00,  9.14it/s]\n",
            " 26%|██▌       | 13/50 [04:45<12:53, 20.90s/it]"
          ]
        },
        {
          "output_type": "stream",
          "name": "stdout",
          "text": [
            "******************************\n",
            "Epoch: 13\n",
            "Training Predictions: [9 4 1 5 1 2 6 7 4 2 6 3 9 5 4 1 6 4 2 3 6 0 4 2 0 6 8 3 5 1]\n",
            "Training Labels: [9 4 1 5 1 2 6 7 4 2 6 3 9 5 4 1 6 4 2 3 6 5 4 2 5 6 8 3 5 1]\n",
            "Validation Predictions: [4 2 1 9 9 4 2 9 8 1 8 8 7 2 0 5 5 1 7 5 2 7 5 3 3 5 6 2 0 4]\n",
            "Validation Labels: [4 2 1 9 9 4 2 9 8 1 8 8 7 2 0 5 5 1 7 5 2 7 5 3 3 2 6 2 0 4]\n",
            "------------------------------\n",
            "Train Loss: 0.5107\n",
            "Valid Loss: 0.3912\n",
            "Train Accuracy: 0.8746\n",
            "Valid Accuracy: 0.9181\n",
            "******************************\n"
          ]
        },
        {
          "output_type": "stream",
          "name": "stderr",
          "text": [
            "100%|██████████| 94/94 [00:16<00:00,  5.57it/s]\n",
            "100%|██████████| 24/24 [00:03<00:00,  7.11it/s]\n",
            " 28%|██▊       | 14/50 [05:06<12:41, 21.14s/it]"
          ]
        },
        {
          "output_type": "stream",
          "name": "stdout",
          "text": [
            "******************************\n",
            "Epoch: 14\n",
            "Training Predictions: [4 3 2 5 2 5 5 3 3 1 9 5 2 8 5 8 0 3 5 7 2 2 0 0 3 0 8 6 7 5]\n",
            "Training Labels: [4 3 3 5 2 5 5 3 3 1 4 5 2 8 5 8 0 3 5 7 2 2 0 0 3 0 2 6 7 5]\n",
            "Validation Predictions: [7 2 3 0 7 2 1 1 7 8 5 5 9 6 9 6 9 6 6 6 2 1 7 2 1 5 2 3 2 7]\n",
            "Validation Labels: [7 2 3 0 7 0 1 1 7 8 5 5 9 6 9 6 3 6 6 6 2 1 7 2 7 5 2 3 2 9]\n",
            "------------------------------\n",
            "Train Loss: 0.4771\n",
            "Valid Loss: 0.3799\n",
            "Train Accuracy: 0.8829\n",
            "Valid Accuracy: 0.9163\n",
            "******************************\n"
          ]
        },
        {
          "output_type": "stream",
          "name": "stderr",
          "text": [
            "100%|██████████| 94/94 [00:16<00:00,  5.62it/s]\n",
            "100%|██████████| 24/24 [00:02<00:00,  8.21it/s]\n",
            " 30%|███       | 15/50 [05:27<12:12, 20.93s/it]"
          ]
        },
        {
          "output_type": "stream",
          "name": "stdout",
          "text": [
            "******************************\n",
            "Epoch: 15\n",
            "Training Predictions: [8 4 4 2 1 6 5 4 2 8 3 0 6 5 7 5 5 3 0 6 4 8 7 5 8 5 6 4 8 3]\n",
            "Training Labels: [8 4 4 2 1 6 5 9 2 8 3 0 6 5 7 1 5 3 0 6 4 8 7 5 8 5 6 4 8 3]\n",
            "Validation Predictions: [9 9 0 0 9 8 8 8 3 5 6 8 6 8 6 7 3 0 8 8 5 6 0 6 3 5 0 7 6 9]\n",
            "Validation Labels: [9 9 0 0 9 8 8 8 3 5 6 3 6 8 6 7 3 0 8 8 5 6 0 6 3 5 0 7 6 9]\n",
            "------------------------------\n",
            "Train Loss: 0.4477\n",
            "Valid Loss: 0.3536\n",
            "Train Accuracy: 0.8884\n",
            "Valid Accuracy: 0.9212\n",
            "******************************\n"
          ]
        },
        {
          "output_type": "stream",
          "name": "stderr",
          "text": [
            "100%|██████████| 94/94 [00:16<00:00,  5.60it/s]\n",
            "100%|██████████| 24/24 [00:02<00:00,  9.08it/s]\n",
            " 32%|███▏      | 16/50 [05:47<11:46, 20.78s/it]"
          ]
        },
        {
          "output_type": "stream",
          "name": "stdout",
          "text": [
            "******************************\n",
            "Epoch: 16\n",
            "Training Predictions: [4 4 6 6 7 9 9 4 2 9 7 2 2 3 1 5 7 9 7 9 7 9 4 1 0 7 0 1 0 0]\n",
            "Training Labels: [4 4 6 4 7 9 9 4 2 9 7 2 2 3 1 5 7 4 7 9 7 9 4 1 0 7 0 1 0 0]\n",
            "Validation Predictions: [6 4 0 1 8 6 7 0 5 4 7 1 1 8 2 3 9 4 3 1 9 5 1 7 3 4 3 6 6 0]\n",
            "Validation Labels: [0 4 0 1 8 6 7 0 5 4 7 1 1 8 2 3 9 4 3 1 9 5 1 7 3 4 3 6 6 0]\n",
            "------------------------------\n",
            "Train Loss: 0.4256\n",
            "Valid Loss: 0.3246\n",
            "Train Accuracy: 0.8918\n",
            "Valid Accuracy: 0.9267\n",
            "******************************\n"
          ]
        },
        {
          "output_type": "stream",
          "name": "stderr",
          "text": [
            "100%|██████████| 94/94 [00:16<00:00,  5.57it/s]\n",
            "100%|██████████| 24/24 [00:03<00:00,  7.38it/s]\n",
            " 34%|███▍      | 17/50 [06:09<11:33, 21.02s/it]"
          ]
        },
        {
          "output_type": "stream",
          "name": "stdout",
          "text": [
            "******************************\n",
            "Epoch: 17\n",
            "Training Predictions: [9 7 5 7 0 3 6 1 1 2 7 4 2 6 0 8 3 9 9 8 4 3 3 1 7 5 4 0 5 2]\n",
            "Training Labels: [4 7 5 7 0 3 6 1 1 3 7 4 2 6 0 8 3 7 9 8 4 3 3 1 7 5 4 0 5 7]\n",
            "Validation Predictions: [2 0 3 1 8 8 9 6 3 7 2 3 7 0 6 9 9 7 3 2 4 6 9 8 6 3 0 6 2 3]\n",
            "Validation Labels: [2 0 3 1 8 8 9 6 5 7 2 3 8 0 6 9 9 7 3 2 4 6 9 8 6 3 0 6 2 3]\n",
            "------------------------------\n",
            "Train Loss: 0.4000\n",
            "Valid Loss: 0.3078\n",
            "Train Accuracy: 0.8984\n",
            "Valid Accuracy: 0.9282\n",
            "******************************\n"
          ]
        },
        {
          "output_type": "stream",
          "name": "stderr",
          "text": [
            "100%|██████████| 94/94 [00:16<00:00,  5.61it/s]\n",
            "100%|██████████| 24/24 [00:02<00:00,  8.36it/s]\n",
            " 36%|███▌      | 18/50 [06:29<11:07, 20.85s/it]"
          ]
        },
        {
          "output_type": "stream",
          "name": "stdout",
          "text": [
            "******************************\n",
            "Epoch: 18\n",
            "Training Predictions: [2 2 1 4 1 6 3 6 3 9 2 9 1 1 4 5 5 0 1 6 9 9 8 6 7 3 2 1 8 8]\n",
            "Training Labels: [2 2 1 4 1 6 3 6 3 8 2 9 1 1 4 5 9 6 1 6 9 9 8 6 7 3 2 1 8 8]\n",
            "Validation Predictions: [8 6 5 8 8 3 9 9 7 7 2 8 6 3 2 9 2 1 4 2 9 1 8 2 9 8 7 4 6 2]\n",
            "Validation Labels: [8 6 5 8 8 3 9 9 7 7 2 8 6 5 2 9 3 1 4 2 9 1 8 2 9 8 7 4 6 2]\n",
            "------------------------------\n",
            "Train Loss: 0.3818\n",
            "Valid Loss: 0.2816\n",
            "Train Accuracy: 0.9029\n",
            "Valid Accuracy: 0.9363\n",
            "******************************\n"
          ]
        },
        {
          "output_type": "stream",
          "name": "stderr",
          "text": [
            "100%|██████████| 94/94 [00:16<00:00,  5.59it/s]\n",
            "100%|██████████| 24/24 [00:02<00:00,  8.91it/s]\n",
            " 38%|███▊      | 19/50 [06:50<10:42, 20.74s/it]"
          ]
        },
        {
          "output_type": "stream",
          "name": "stdout",
          "text": [
            "******************************\n",
            "Epoch: 19\n",
            "Training Predictions: [7 1 7 8 2 3 4 2 6 4 4 5 8 1 1 4 8 6 2 1 0 8 7 5 7 9 9 2 8 2]\n",
            "Training Labels: [7 1 7 8 2 3 4 3 6 4 3 5 8 1 1 4 8 6 2 1 0 8 7 5 7 9 9 2 2 2]\n",
            "Validation Predictions: [4 4 9 0 6 5 4 0 3 0 5 7 0 5 6 9 1 1 5 4 9 9 5 2 7 7 4 6 8 9]\n",
            "Validation Labels: [4 4 9 0 6 5 4 0 3 0 5 7 0 5 6 9 1 1 5 4 9 9 9 2 7 7 4 6 8 9]\n",
            "------------------------------\n",
            "Train Loss: 0.3655\n",
            "Valid Loss: 0.2744\n",
            "Train Accuracy: 0.9052\n",
            "Valid Accuracy: 0.9359\n",
            "******************************\n"
          ]
        },
        {
          "output_type": "stream",
          "name": "stderr",
          "text": [
            "100%|██████████| 94/94 [00:16<00:00,  5.56it/s]\n",
            "100%|██████████| 24/24 [00:03<00:00,  7.84it/s]\n",
            " 40%|████      | 20/50 [07:11<10:27, 20.93s/it]"
          ]
        },
        {
          "output_type": "stream",
          "name": "stdout",
          "text": [
            "******************************\n",
            "Epoch: 20\n",
            "Training Predictions: [0 5 3 5 4 3 2 1 0 8 4 8 5 4 2 9 9 4 2 2 8 4 9 9 1 9 8 3 8 7]\n",
            "Training Labels: [0 3 3 5 4 3 2 1 0 8 4 8 0 4 2 9 9 4 2 2 8 4 9 9 1 9 8 3 8 7]\n",
            "Validation Predictions: [8 6 1 0 9 6 8 3 2 7 9 2 5 1 5 1 9 1 1 8 4 1 3 2 9 3 3 0 1 5]\n",
            "Validation Labels: [8 6 1 0 9 6 8 3 2 7 9 2 5 1 5 1 9 1 1 8 4 1 3 2 9 3 3 0 1 5]\n",
            "------------------------------\n",
            "Train Loss: 0.3500\n",
            "Valid Loss: 0.2727\n",
            "Train Accuracy: 0.9070\n",
            "Valid Accuracy: 0.9339\n",
            "******************************\n"
          ]
        },
        {
          "output_type": "stream",
          "name": "stderr",
          "text": [
            "100%|██████████| 94/94 [00:16<00:00,  5.70it/s]\n",
            "100%|██████████| 24/24 [00:02<00:00,  8.10it/s]\n",
            " 42%|████▏     | 21/50 [07:32<10:01, 20.76s/it]"
          ]
        },
        {
          "output_type": "stream",
          "name": "stdout",
          "text": [
            "******************************\n",
            "Epoch: 21\n",
            "Training Predictions: [2 7 7 1 2 8 0 1 6 4 8 4 0 4 3 7 2 7 2 4 1 5 4 4 0 3 1 6 5 5]\n",
            "Training Labels: [2 7 7 1 2 8 0 1 6 4 8 4 0 4 5 7 2 7 2 4 1 5 4 4 0 3 1 6 5 5]\n",
            "Validation Predictions: [4 6 1 5 0 0 4 2 4 7 1 5 0 2 3 3 4 7 7 1 2 4 5 5 0 4 6 4 2 1]\n",
            "Validation Labels: [4 6 1 5 0 0 4 2 4 7 1 3 0 2 3 3 4 7 7 1 2 4 5 5 0 4 6 4 2 1]\n",
            "------------------------------\n",
            "Train Loss: 0.3428\n",
            "Valid Loss: 0.2508\n",
            "Train Accuracy: 0.9087\n",
            "Valid Accuracy: 0.9407\n",
            "******************************\n"
          ]
        },
        {
          "output_type": "stream",
          "name": "stderr",
          "text": [
            "100%|██████████| 94/94 [00:16<00:00,  5.68it/s]\n",
            "100%|██████████| 24/24 [00:02<00:00,  9.12it/s]\n",
            " 44%|████▍     | 22/50 [07:52<09:36, 20.59s/it]"
          ]
        },
        {
          "output_type": "stream",
          "name": "stdout",
          "text": [
            "******************************\n",
            "Epoch: 22\n",
            "Training Predictions: [7 9 2 4 3 6 6 8 5 9 0 3 9 5 1 7 8 5 6 2 0 0 8 6 3 7 5 8 0 7]\n",
            "Training Labels: [7 9 2 4 3 6 6 8 5 9 0 3 9 5 1 7 2 3 8 2 0 0 8 6 3 7 5 8 0 7]\n",
            "Validation Predictions: [9 0 8 9 0 5 1 5 6 3 6 6 8 6 4 8 7 2 7 1 8 2 8 2 3 0 6 5 2 1]\n",
            "Validation Labels: [9 0 8 9 0 5 1 5 6 3 6 6 3 5 4 8 7 1 7 1 8 2 8 2 3 0 6 5 2 1]\n",
            "------------------------------\n",
            "Train Loss: 0.3254\n",
            "Valid Loss: 0.2438\n",
            "Train Accuracy: 0.9135\n",
            "Valid Accuracy: 0.9408\n",
            "******************************\n"
          ]
        },
        {
          "output_type": "stream",
          "name": "stderr",
          "text": [
            "100%|██████████| 94/94 [00:17<00:00,  5.42it/s]\n",
            "100%|██████████| 24/24 [00:03<00:00,  7.77it/s]\n",
            " 46%|████▌     | 23/50 [08:13<09:24, 20.89s/it]"
          ]
        },
        {
          "output_type": "stream",
          "name": "stdout",
          "text": [
            "******************************\n",
            "Epoch: 23\n",
            "Training Predictions: [1 3 0 0 1 5 1 3 0 4 3 1 1 8 1 5 6 3 2 9 2 8 4 5 2 3 3 2 8 5]\n",
            "Training Labels: [1 3 0 0 1 5 8 3 0 4 3 1 1 8 1 8 6 3 2 9 2 8 4 5 2 3 3 7 4 5]\n",
            "Validation Predictions: [7 5 0 3 0 3 3 4 2 6 8 9 3 5 7 6 1 1 7 4 6 5 6 5 8 7 2 5 1 7]\n",
            "Validation Labels: [7 5 0 3 0 3 7 4 2 6 8 9 3 5 7 6 1 1 7 4 2 5 6 5 8 7 2 5 1 7]\n",
            "------------------------------\n",
            "Train Loss: 0.3093\n",
            "Valid Loss: 0.2263\n",
            "Train Accuracy: 0.9179\n",
            "Valid Accuracy: 0.9447\n",
            "******************************\n"
          ]
        },
        {
          "output_type": "stream",
          "name": "stderr",
          "text": [
            "100%|██████████| 94/94 [00:16<00:00,  5.71it/s]\n",
            "100%|██████████| 24/24 [00:02<00:00,  8.83it/s]\n",
            " 48%|████▊     | 24/50 [08:33<08:57, 20.68s/it]"
          ]
        },
        {
          "output_type": "stream",
          "name": "stdout",
          "text": [
            "******************************\n",
            "Epoch: 24\n",
            "Training Predictions: [6 9 5 3 6 8 8 9 4 5 1 6 3 9 5 1 1 0 4 9 1 5 4 3 8 3 5 6 0 9]\n",
            "Training Labels: [6 9 5 3 6 8 8 9 4 5 1 6 3 9 5 9 1 0 4 9 1 6 4 3 8 3 5 6 0 8]\n",
            "Validation Predictions: [3 1 7 3 3 6 1 0 1 7 7 3 0 6 1 5 0 8 1 4 1 5 9 2 1 5 9 3 7 9]\n",
            "Validation Labels: [3 1 7 3 3 6 1 6 1 7 9 3 0 6 1 5 0 8 1 4 1 5 9 2 1 5 9 3 7 9]\n",
            "------------------------------\n",
            "Train Loss: 0.2970\n",
            "Valid Loss: 0.2299\n",
            "Train Accuracy: 0.9184\n",
            "Valid Accuracy: 0.9425\n",
            "******************************\n"
          ]
        },
        {
          "output_type": "stream",
          "name": "stderr",
          "text": [
            "100%|██████████| 94/94 [00:16<00:00,  5.61it/s]\n",
            "100%|██████████| 24/24 [00:02<00:00,  9.10it/s]\n",
            " 50%|█████     | 25/50 [08:54<08:34, 20.60s/it]"
          ]
        },
        {
          "output_type": "stream",
          "name": "stdout",
          "text": [
            "******************************\n",
            "Epoch: 25\n",
            "Training Predictions: [3 5 3 9 2 6 3 6 1 2 9 6 4 7 6 4 3 5 8 3 7 2 2 6 6 8 8 2 6 5]\n",
            "Training Labels: [3 5 3 4 2 6 3 5 1 2 9 6 4 7 8 9 5 5 8 3 7 2 2 6 6 8 8 2 6 5]\n",
            "Validation Predictions: [1 0 7 7 4 8 0 2 9 6 7 4 2 1 8 2 1 5 6 6 9 4 9 5 4 6 9 8 6 7]\n",
            "Validation Labels: [1 0 7 7 4 8 0 3 9 6 7 4 2 1 9 2 1 5 6 6 9 4 9 9 4 6 9 8 6 7]\n",
            "------------------------------\n",
            "Train Loss: 0.2938\n",
            "Valid Loss: 0.2111\n",
            "Train Accuracy: 0.9196\n",
            "Valid Accuracy: 0.9474\n",
            "******************************\n"
          ]
        },
        {
          "output_type": "stream",
          "name": "stderr",
          "text": [
            "100%|██████████| 94/94 [00:16<00:00,  5.62it/s]\n",
            "100%|██████████| 24/24 [00:04<00:00,  5.50it/s]\n",
            " 52%|█████▏    | 26/50 [09:16<08:26, 21.10s/it]"
          ]
        },
        {
          "output_type": "stream",
          "name": "stdout",
          "text": [
            "******************************\n",
            "Epoch: 26\n",
            "Training Predictions: [1 0 7 8 5 1 5 7 2 1 4 8 5 6 6 5 2 2 9 2 5 3 5 7 2 8 6 6 2 8]\n",
            "Training Labels: [1 0 7 8 5 1 6 7 2 1 4 8 5 2 6 3 0 2 9 2 5 3 5 7 2 8 6 0 2 8]\n",
            "Validation Predictions: [1 2 0 3 2 9 8 9 5 7 5 4 0 2 8 3 4 6 2 6 6 2 8 0 1 3 3 6 9 3]\n",
            "Validation Labels: [1 2 0 3 2 9 8 9 5 7 5 4 0 2 8 3 4 6 2 8 6 2 8 0 1 3 3 6 9 3]\n",
            "------------------------------\n",
            "Train Loss: 0.2854\n",
            "Valid Loss: 0.2043\n",
            "Train Accuracy: 0.9213\n",
            "Valid Accuracy: 0.9486\n",
            "******************************\n"
          ]
        },
        {
          "output_type": "stream",
          "name": "stderr",
          "text": [
            "100%|██████████| 94/94 [00:16<00:00,  5.56it/s]\n",
            "100%|██████████| 24/24 [00:02<00:00,  9.28it/s]\n",
            " 54%|█████▍    | 27/50 [09:37<08:01, 20.93s/it]"
          ]
        },
        {
          "output_type": "stream",
          "name": "stdout",
          "text": [
            "******************************\n",
            "Epoch: 27\n",
            "Training Predictions: [6 6 5 6 8 3 7 3 8 0 2 2 5 8 4 3 5 3 6 7 7 8 3 9 4 6 9 6 7 1]\n",
            "Training Labels: [6 6 5 6 8 3 7 3 8 4 2 5 5 8 4 3 8 3 6 7 4 8 3 7 4 6 9 6 7 1]\n",
            "Validation Predictions: [1 7 3 1 7 1 7 7 0 6 7 3 8 4 6 8 6 8 0 1 0 6 5 6 1 4 4 6 6 6]\n",
            "Validation Labels: [1 7 3 1 7 1 7 8 0 6 7 3 8 4 6 8 6 8 0 1 0 6 2 6 1 4 4 6 6 6]\n",
            "------------------------------\n",
            "Train Loss: 0.2781\n",
            "Valid Loss: 0.2149\n",
            "Train Accuracy: 0.9237\n",
            "Valid Accuracy: 0.9457\n",
            "******************************\n"
          ]
        },
        {
          "output_type": "stream",
          "name": "stderr",
          "text": [
            "100%|██████████| 94/94 [00:16<00:00,  5.57it/s]\n",
            "100%|██████████| 24/24 [00:02<00:00,  9.28it/s]\n",
            " 56%|█████▌    | 28/50 [09:57<07:37, 20.79s/it]"
          ]
        },
        {
          "output_type": "stream",
          "name": "stdout",
          "text": [
            "******************************\n",
            "Epoch: 28\n",
            "Training Predictions: [7 0 9 6 1 5 9 2 1 7 2 1 6 3 9 6 6 8 8 6 6 2 9 5 2 5 1 4 8 7]\n",
            "Training Labels: [7 0 9 6 1 5 9 2 1 7 2 1 6 3 9 6 6 8 8 6 6 2 9 5 2 5 1 4 8 8]\n",
            "Validation Predictions: [0 1 8 6 0 0 5 8 3 8 9 5 6 3 3 1 6 3 0 4 6 0 8 1 6 0 2 8 7 8]\n",
            "Validation Labels: [0 1 8 6 0 0 5 8 3 8 9 5 6 3 3 2 6 3 0 4 6 0 8 1 6 0 2 8 7 8]\n",
            "------------------------------\n",
            "Train Loss: 0.2686\n",
            "Valid Loss: 0.1975\n",
            "Train Accuracy: 0.9257\n",
            "Valid Accuracy: 0.9497\n",
            "******************************\n"
          ]
        },
        {
          "output_type": "stream",
          "name": "stderr",
          "text": [
            "100%|██████████| 94/94 [00:16<00:00,  5.54it/s]\n",
            "100%|██████████| 24/24 [00:02<00:00,  8.21it/s]\n",
            " 58%|█████▊    | 29/50 [10:18<07:20, 20.95s/it]"
          ]
        },
        {
          "output_type": "stream",
          "name": "stdout",
          "text": [
            "******************************\n",
            "Epoch: 29\n",
            "Training Predictions: [7 6 5 2 0 2 7 7 0 5 7 2 1 4 1 4 8 8 9 4 9 7 7 1 5 8 5 1 8 9]\n",
            "Training Labels: [7 6 5 2 0 2 5 7 0 5 7 2 1 4 1 4 8 8 9 4 9 7 7 1 5 8 5 1 8 9]\n",
            "Validation Predictions: [7 9 7 0 6 9 7 1 7 7 4 4 4 1 3 2 8 2 1 8 8 4 8 9 5 8 9 9 0 9]\n",
            "Validation Labels: [7 9 7 0 6 9 7 1 7 7 4 4 4 1 3 2 8 2 1 8 8 4 8 9 5 8 4 9 0 9]\n",
            "------------------------------\n",
            "Train Loss: 0.2595\n",
            "Valid Loss: 0.1982\n",
            "Train Accuracy: 0.9276\n",
            "Valid Accuracy: 0.9476\n",
            "******************************\n"
          ]
        },
        {
          "output_type": "stream",
          "name": "stderr",
          "text": [
            "100%|██████████| 94/94 [00:16<00:00,  5.65it/s]\n",
            "100%|██████████| 24/24 [00:02<00:00,  9.05it/s]\n",
            " 60%|██████    | 30/50 [10:39<06:55, 20.78s/it]"
          ]
        },
        {
          "output_type": "stream",
          "name": "stdout",
          "text": [
            "******************************\n",
            "Epoch: 30\n",
            "Training Predictions: [4 6 3 9 9 5 9 0 1 3 2 1 9 3 0 8 5 4 0 9 4 0 9 7 3 4 1 3 5 4]\n",
            "Training Labels: [4 6 3 9 4 5 9 0 1 3 2 1 9 3 0 8 5 4 0 7 4 0 9 7 3 4 1 3 5 4]\n",
            "Validation Predictions: [6 6 8 3 0 9 0 6 2 3 3 7 4 9 8 0 7 3 3 3 5 7 7 1 3 6 8 3 2 4]\n",
            "Validation Labels: [6 6 8 3 0 9 0 6 2 3 3 7 4 9 8 0 7 3 3 3 5 7 7 1 3 6 8 3 2 4]\n",
            "------------------------------\n",
            "Train Loss: 0.2504\n",
            "Valid Loss: 0.1841\n",
            "Train Accuracy: 0.9306\n",
            "Valid Accuracy: 0.9527\n",
            "******************************\n"
          ]
        },
        {
          "output_type": "stream",
          "name": "stderr",
          "text": [
            "100%|██████████| 94/94 [00:17<00:00,  5.52it/s]\n",
            "100%|██████████| 24/24 [00:02<00:00,  9.30it/s]\n",
            " 62%|██████▏   | 31/50 [10:59<06:33, 20.73s/it]"
          ]
        },
        {
          "output_type": "stream",
          "name": "stdout",
          "text": [
            "******************************\n",
            "Epoch: 31\n",
            "Training Predictions: [9 7 6 7 8 8 9 9 7 3 2 1 6 7 6 0 3 9 9 2 5 7 8 9 8 6 4 6 4 2]\n",
            "Training Labels: [9 7 6 7 8 8 9 9 7 3 2 1 6 3 6 0 3 9 9 2 5 7 8 9 8 5 6 6 4 2]\n",
            "Validation Predictions: [2 8 1 8 6 6 1 9 1 0 4 6 8 5 0 0 8 2 9 4 6 8 2 0 2 4 8 4 2 2]\n",
            "Validation Labels: [5 8 1 8 6 6 1 9 1 0 4 6 8 5 0 0 8 2 9 4 6 8 2 0 2 4 8 4 2 2]\n",
            "------------------------------\n",
            "Train Loss: 0.2472\n",
            "Valid Loss: 0.1899\n",
            "Train Accuracy: 0.9296\n",
            "Valid Accuracy: 0.9508\n",
            "******************************\n"
          ]
        },
        {
          "output_type": "stream",
          "name": "stderr",
          "text": [
            "100%|██████████| 94/94 [00:17<00:00,  5.42it/s]\n",
            "100%|██████████| 24/24 [00:02<00:00,  8.10it/s]\n",
            " 64%|██████▍   | 32/50 [11:21<06:18, 21.03s/it]"
          ]
        },
        {
          "output_type": "stream",
          "name": "stdout",
          "text": [
            "******************************\n",
            "Epoch: 32\n",
            "Training Predictions: [2 7 4 1 1 8 2 9 4 5 8 0 6 9 2 4 7 4 2 5 3 0 0 4 3 3 7 9 2 6]\n",
            "Training Labels: [2 7 4 1 1 8 2 4 4 5 8 0 6 9 2 4 7 4 2 5 3 0 0 4 3 3 7 7 3 6]\n",
            "Validation Predictions: [5 7 3 2 4 3 0 6 9 3 2 6 8 8 9 5 9 7 3 0 8 6 1 3 9 1 5 7 6 9]\n",
            "Validation Labels: [5 7 3 5 4 3 0 6 9 3 2 6 8 8 4 5 9 7 9 0 8 6 1 3 9 1 5 7 6 9]\n",
            "------------------------------\n",
            "Train Loss: 0.2377\n",
            "Valid Loss: 0.1753\n",
            "Train Accuracy: 0.9323\n",
            "Valid Accuracy: 0.9533\n",
            "******************************\n"
          ]
        },
        {
          "output_type": "stream",
          "name": "stderr",
          "text": [
            "100%|██████████| 94/94 [00:16<00:00,  5.75it/s]\n",
            "100%|██████████| 24/24 [00:02<00:00,  9.12it/s]\n",
            " 66%|██████▌   | 33/50 [11:41<05:52, 20.72s/it]"
          ]
        },
        {
          "output_type": "stream",
          "name": "stdout",
          "text": [
            "******************************\n",
            "Epoch: 33\n",
            "Training Predictions: [2 9 5 1 6 0 6 2 3 6 1 6 3 1 0 2 2 8 9 3 8 7 0 8 4 1 1 1 1 3]\n",
            "Training Labels: [2 9 5 1 6 0 6 2 3 6 5 6 3 1 0 2 2 8 9 3 8 3 0 8 4 1 7 1 1 3]\n",
            "Validation Predictions: [3 1 3 9 9 2 4 1 2 6 2 2 6 9 6 3 9 3 3 7 7 0 9 4 1 8 3 5 3 6]\n",
            "Validation Labels: [3 1 3 9 9 2 4 1 2 6 2 2 5 9 6 3 9 8 3 7 7 0 9 4 1 8 3 5 3 6]\n",
            "------------------------------\n",
            "Train Loss: 0.2365\n",
            "Valid Loss: 0.1689\n",
            "Train Accuracy: 0.9323\n",
            "Valid Accuracy: 0.9547\n",
            "******************************\n"
          ]
        },
        {
          "output_type": "stream",
          "name": "stderr",
          "text": [
            "100%|██████████| 94/94 [00:16<00:00,  5.61it/s]\n",
            "100%|██████████| 24/24 [00:02<00:00,  8.95it/s]\n",
            " 68%|██████▊   | 34/50 [12:02<05:30, 20.64s/it]"
          ]
        },
        {
          "output_type": "stream",
          "name": "stdout",
          "text": [
            "******************************\n",
            "Epoch: 34\n",
            "Training Predictions: [8 9 3 1 8 0 3 8 9 7 3 1 3 8 2 4 6 9 0 2 8 0 8 0 3 6 2 6 0 0]\n",
            "Training Labels: [8 9 3 1 8 0 3 8 9 9 3 1 3 8 2 4 6 9 0 2 8 0 8 0 3 6 2 6 0 0]\n",
            "Validation Predictions: [4 9 5 3 4 8 5 2 9 1 7 7 1 2 9 3 7 4 6 2 3 6 6 9 6 3 7 5 4 7]\n",
            "Validation Labels: [4 9 5 3 4 8 5 2 9 1 7 7 1 2 9 3 7 4 6 2 3 6 6 9 6 3 7 5 4 7]\n",
            "------------------------------\n",
            "Train Loss: 0.2307\n",
            "Valid Loss: 0.1645\n",
            "Train Accuracy: 0.9331\n",
            "Valid Accuracy: 0.9558\n",
            "******************************\n"
          ]
        },
        {
          "output_type": "stream",
          "name": "stderr",
          "text": [
            "100%|██████████| 94/94 [00:16<00:00,  5.60it/s]\n",
            "100%|██████████| 24/24 [00:04<00:00,  5.51it/s]\n",
            " 70%|███████   | 35/50 [12:24<05:16, 21.12s/it]"
          ]
        },
        {
          "output_type": "stream",
          "name": "stdout",
          "text": [
            "******************************\n",
            "Epoch: 35\n",
            "Training Predictions: [6 2 7 1 4 9 3 0 4 3 8 4 8 1 1 7 9 7 8 9 8 0 3 6 2 8 2 3 7 9]\n",
            "Training Labels: [6 2 7 1 4 9 3 0 4 3 8 4 8 1 1 2 9 7 8 9 8 0 3 6 2 8 2 3 7 5]\n",
            "Validation Predictions: [3 4 8 5 2 0 2 2 2 8 4 9 0 7 5 8 2 7 2 3 4 0 5 0 1 4 1 2 9 0]\n",
            "Validation Labels: [3 4 8 5 2 0 2 2 2 8 4 9 0 7 5 8 2 7 2 3 4 0 5 0 1 4 1 2 9 0]\n",
            "------------------------------\n",
            "Train Loss: 0.2224\n",
            "Valid Loss: 0.1681\n",
            "Train Accuracy: 0.9363\n",
            "Valid Accuracy: 0.9547\n",
            "******************************\n"
          ]
        },
        {
          "output_type": "stream",
          "name": "stderr",
          "text": [
            "100%|██████████| 94/94 [00:17<00:00,  5.44it/s]\n",
            "100%|██████████| 24/24 [00:02<00:00,  9.01it/s]\n",
            " 72%|███████▏  | 36/50 [12:45<04:55, 21.08s/it]"
          ]
        },
        {
          "output_type": "stream",
          "name": "stdout",
          "text": [
            "******************************\n",
            "Epoch: 36\n",
            "Training Predictions: [4 1 7 4 9 0 5 3 9 0 1 1 5 2 9 0 6 2 2 1 2 4 8 5 4 8 1 8 5 3]\n",
            "Training Labels: [4 2 7 4 9 0 5 3 9 0 1 1 5 2 9 0 6 2 6 1 2 4 8 5 4 5 1 8 5 3]\n",
            "Validation Predictions: [5 3 7 5 0 4 3 6 9 1 7 4 9 1 2 1 2 4 0 3 2 8 4 2 4 6 9 1 7 4]\n",
            "Validation Labels: [5 3 7 5 0 4 3 6 9 1 7 4 9 1 3 1 2 4 0 3 2 8 4 2 4 6 9 1 7 4]\n",
            "------------------------------\n",
            "Train Loss: 0.2222\n",
            "Valid Loss: 0.1742\n",
            "Train Accuracy: 0.9356\n",
            "Valid Accuracy: 0.9522\n",
            "******************************\n"
          ]
        },
        {
          "output_type": "stream",
          "name": "stderr",
          "text": [
            "100%|██████████| 94/94 [00:16<00:00,  5.57it/s]\n",
            "100%|██████████| 24/24 [00:02<00:00,  9.15it/s]\n",
            " 74%|███████▍  | 37/50 [13:05<04:31, 20.91s/it]"
          ]
        },
        {
          "output_type": "stream",
          "name": "stdout",
          "text": [
            "******************************\n",
            "Epoch: 37\n",
            "Training Predictions: [0 9 6 5 8 2 9 9 1 5 1 8 7 2 3 3 1 1 2 2 1 4 2 8 1 0 7 9 9 3]\n",
            "Training Labels: [0 9 6 5 8 2 9 9 1 5 1 8 7 2 3 3 1 1 2 2 1 4 2 8 1 0 7 9 9 3]\n",
            "Validation Predictions: [7 6 8 5 0 4 3 5 3 8 0 9 6 7 7 0 8 8 5 3 3 9 5 2 3 6 8 2 8 1]\n",
            "Validation Labels: [7 6 8 5 0 4 8 5 3 8 0 9 6 7 7 0 8 8 5 3 3 9 5 2 3 6 8 2 8 1]\n",
            "------------------------------\n",
            "Train Loss: 0.2215\n",
            "Valid Loss: 0.1601\n",
            "Train Accuracy: 0.9364\n",
            "Valid Accuracy: 0.9564\n",
            "******************************\n"
          ]
        },
        {
          "output_type": "stream",
          "name": "stderr",
          "text": [
            "100%|██████████| 94/94 [00:17<00:00,  5.39it/s]\n",
            "100%|██████████| 24/24 [00:03<00:00,  7.25it/s]\n",
            " 76%|███████▌  | 38/50 [13:28<04:15, 21.27s/it]"
          ]
        },
        {
          "output_type": "stream",
          "name": "stdout",
          "text": [
            "******************************\n",
            "Epoch: 38\n",
            "Training Predictions: [0 7 4 7 6 3 8 0 6 3 7 2 2 2 6 5 2 0 8 5 4 9 6 6 8 0 4 4 4 8]\n",
            "Training Labels: [0 7 4 7 6 3 8 0 6 3 7 2 2 2 6 5 2 2 8 5 4 9 6 6 8 0 4 4 4 8]\n",
            "Validation Predictions: [7 3 0 5 2 9 6 8 6 7 8 3 9 1 6 0 3 7 6 8 2 9 2 0 5 6 7 5 5 0]\n",
            "Validation Labels: [2 8 0 5 2 9 6 8 6 7 8 3 4 1 6 0 3 7 6 5 2 9 2 0 5 6 7 5 5 0]\n",
            "------------------------------\n",
            "Train Loss: 0.2114\n",
            "Valid Loss: 0.1589\n",
            "Train Accuracy: 0.9376\n",
            "Valid Accuracy: 0.9557\n",
            "******************************\n"
          ]
        },
        {
          "output_type": "stream",
          "name": "stderr",
          "text": [
            "100%|██████████| 94/94 [00:16<00:00,  5.63it/s]\n",
            "100%|██████████| 24/24 [00:02<00:00,  9.04it/s]\n",
            " 78%|███████▊  | 39/50 [13:48<03:50, 21.00s/it]"
          ]
        },
        {
          "output_type": "stream",
          "name": "stdout",
          "text": [
            "******************************\n",
            "Epoch: 39\n",
            "Training Predictions: [4 1 9 2 6 6 9 9 5 6 6 4 5 0 2 3 5 9 3 6 2 7 9 5 7 1 8 6 8 3]\n",
            "Training Labels: [4 1 9 2 6 6 9 9 5 6 6 4 5 0 2 3 3 9 3 6 2 7 4 5 7 1 0 6 8 2]\n",
            "Validation Predictions: [6 4 1 2 8 2 3 9 6 0 6 0 8 3 8 6 7 1 7 8 8 6 8 5 4 8 9 6 3 9]\n",
            "Validation Labels: [6 4 1 2 8 2 3 9 6 0 6 0 0 3 8 6 7 1 7 8 8 6 8 5 4 8 9 6 3 9]\n",
            "------------------------------\n",
            "Train Loss: 0.2081\n",
            "Valid Loss: 0.1598\n",
            "Train Accuracy: 0.9387\n",
            "Valid Accuracy: 0.9555\n",
            "******************************\n"
          ]
        },
        {
          "output_type": "stream",
          "name": "stderr",
          "text": [
            "100%|██████████| 94/94 [00:16<00:00,  5.56it/s]\n",
            "100%|██████████| 24/24 [00:02<00:00,  8.81it/s]\n",
            " 80%|████████  | 40/50 [14:08<03:28, 20.89s/it]"
          ]
        },
        {
          "output_type": "stream",
          "name": "stdout",
          "text": [
            "******************************\n",
            "Epoch: 40\n",
            "Training Predictions: [3 2 0 7 0 2 4 7 8 8 4 2 4 4 0 0 7 4 2 9 5 3 2 1 6 7 7 0 5 2]\n",
            "Training Labels: [3 2 0 7 0 2 4 7 8 8 4 1 4 4 0 0 7 4 2 9 5 3 2 1 6 7 7 0 5 2]\n",
            "Validation Predictions: [3 7 6 4 5 0 8 5 7 9 7 6 1 9 6 8 3 5 6 4 5 0 3 6 9 3 2 9 8 5]\n",
            "Validation Labels: [3 7 6 4 2 0 8 5 4 9 7 4 1 9 6 2 3 5 6 4 5 0 3 6 9 3 2 9 8 5]\n",
            "------------------------------\n",
            "Train Loss: 0.2062\n",
            "Valid Loss: 0.1515\n",
            "Train Accuracy: 0.9391\n",
            "Valid Accuracy: 0.9577\n",
            "******************************\n"
          ]
        },
        {
          "output_type": "stream",
          "name": "stderr",
          "text": [
            "100%|██████████| 94/94 [00:16<00:00,  5.63it/s]\n",
            "100%|██████████| 24/24 [00:05<00:00,  4.57it/s]\n",
            " 82%|████████▏ | 41/50 [14:31<03:13, 21.47s/it]"
          ]
        },
        {
          "output_type": "stream",
          "name": "stdout",
          "text": [
            "******************************\n",
            "Epoch: 41\n",
            "Training Predictions: [2 1 8 5 4 2 3 3 1 5 9 5 5 5 2 2 0 6 5 7 1 6 5 7 6 4 6 2 1 1]\n",
            "Training Labels: [2 1 8 5 4 2 3 3 1 5 9 5 5 5 2 2 0 6 5 3 1 6 5 7 6 4 6 2 1 3]\n",
            "Validation Predictions: [1 7 1 3 5 4 6 6 2 3 5 4 7 0 6 4 2 4 4 3 3 4 0 1 4 1 8 7 4 8]\n",
            "Validation Labels: [1 7 1 3 5 4 6 6 2 3 5 4 7 0 6 4 2 4 4 3 3 4 0 1 4 1 8 7 4 8]\n",
            "------------------------------\n",
            "Train Loss: 0.2031\n",
            "Valid Loss: 0.1488\n",
            "Train Accuracy: 0.9403\n",
            "Valid Accuracy: 0.9577\n",
            "******************************\n"
          ]
        },
        {
          "output_type": "stream",
          "name": "stderr",
          "text": [
            "100%|██████████| 94/94 [00:16<00:00,  5.54it/s]\n",
            "100%|██████████| 24/24 [00:02<00:00,  9.00it/s]\n",
            " 84%|████████▍ | 42/50 [14:52<02:49, 21.22s/it]"
          ]
        },
        {
          "output_type": "stream",
          "name": "stdout",
          "text": [
            "******************************\n",
            "Epoch: 42\n",
            "Training Predictions: [7 3 5 1 6 9 8 2 3 7 6 1 6 3 3 4 9 9 7 3 7 0 7 4 2 5 2 4 1 9]\n",
            "Training Labels: [7 3 5 1 6 9 8 2 3 7 6 1 6 5 3 4 9 9 7 3 7 0 7 4 2 5 2 4 1 9]\n",
            "Validation Predictions: [1 2 2 3 0 7 2 7 6 8 5 1 7 4 8 8 6 0 5 9 5 8 7 9 4 4 5 5 3 1]\n",
            "Validation Labels: [1 2 2 3 4 7 2 7 6 8 5 1 7 4 8 8 6 0 5 9 5 8 7 9 4 4 5 5 3 1]\n",
            "------------------------------\n",
            "Train Loss: 0.2002\n",
            "Valid Loss: 0.1417\n",
            "Train Accuracy: 0.9412\n",
            "Valid Accuracy: 0.9607\n",
            "******************************\n"
          ]
        },
        {
          "output_type": "stream",
          "name": "stderr",
          "text": [
            "100%|██████████| 94/94 [00:17<00:00,  5.42it/s]\n",
            "100%|██████████| 24/24 [00:02<00:00,  8.93it/s]\n",
            " 86%|████████▌ | 43/50 [15:13<02:28, 21.16s/it]"
          ]
        },
        {
          "output_type": "stream",
          "name": "stdout",
          "text": [
            "******************************\n",
            "Epoch: 43\n",
            "Training Predictions: [3 5 2 6 9 9 5 6 7 2 3 5 9 5 6 7 6 2 2 4 3 2 4 8 0 7 4 0 6 3]\n",
            "Training Labels: [3 5 2 6 9 9 5 6 7 2 3 5 9 5 6 7 6 7 2 4 3 2 4 8 0 7 4 0 6 3]\n",
            "Validation Predictions: [6 7 5 6 0 1 9 0 8 6 1 3 4 8 4 6 1 7 9 3 8 0 7 7 1 1 7 0 8 8]\n",
            "Validation Labels: [6 7 5 6 0 1 9 0 8 6 1 3 4 8 4 6 1 7 9 3 8 0 7 7 1 1 7 0 8 8]\n",
            "------------------------------\n",
            "Train Loss: 0.2004\n",
            "Valid Loss: 0.1666\n",
            "Train Accuracy: 0.9410\n",
            "Valid Accuracy: 0.9542\n",
            "******************************\n"
          ]
        },
        {
          "output_type": "stream",
          "name": "stderr",
          "text": [
            "100%|██████████| 94/94 [00:17<00:00,  5.40it/s]\n",
            "100%|██████████| 24/24 [00:03<00:00,  6.52it/s]\n",
            " 88%|████████▊ | 44/50 [15:35<02:08, 21.40s/it]"
          ]
        },
        {
          "output_type": "stream",
          "name": "stdout",
          "text": [
            "******************************\n",
            "Epoch: 44\n",
            "Training Predictions: [1 3 9 9 3 6 6 0 0 4 5 8 0 7 4 4 6 1 1 8 3 0 8 6 9 5 3 0 9 4]\n",
            "Training Labels: [1 3 9 4 3 6 6 0 0 4 5 8 0 7 4 4 6 1 1 8 3 0 8 6 9 5 3 0 9 4]\n",
            "Validation Predictions: [3 0 7 9 8 5 9 2 5 9 6 7 6 6 9 8 3 9 1 9 7 0 2 1 2 7 1 8 5 5]\n",
            "Validation Labels: [3 0 7 9 8 5 9 2 5 9 6 7 6 6 9 8 3 9 1 9 7 0 2 1 2 7 1 8 6 5]\n",
            "------------------------------\n",
            "Train Loss: 0.1929\n",
            "Valid Loss: 0.1520\n",
            "Train Accuracy: 0.9427\n",
            "Valid Accuracy: 0.9576\n",
            "******************************\n"
          ]
        },
        {
          "output_type": "stream",
          "name": "stderr",
          "text": [
            "100%|██████████| 94/94 [00:17<00:00,  5.34it/s]\n",
            "100%|██████████| 24/24 [00:02<00:00,  8.70it/s]\n",
            " 90%|█████████ | 45/50 [15:56<01:47, 21.40s/it]"
          ]
        },
        {
          "output_type": "stream",
          "name": "stdout",
          "text": [
            "******************************\n",
            "Epoch: 45\n",
            "Training Predictions: [8 1 9 6 1 6 2 9 2 6 4 8 4 0 5 9 0 1 4 5 2 6 2 2 1 6 3 0 3 5]\n",
            "Training Labels: [8 1 9 6 1 6 2 9 2 6 4 3 4 0 5 9 0 1 4 3 2 5 2 2 1 6 3 0 3 5]\n",
            "Validation Predictions: [3 1 3 2 5 4 9 6 5 9 6 0 9 4 8 2 8 5 8 2 7 0 0 8 5 4 7 2 8 1]\n",
            "Validation Labels: [3 1 3 2 5 4 9 6 5 9 6 0 9 4 8 2 8 5 8 2 7 0 0 8 5 4 7 2 8 1]\n",
            "------------------------------\n",
            "Train Loss: 0.1886\n",
            "Valid Loss: 0.1346\n",
            "Train Accuracy: 0.9433\n",
            "Valid Accuracy: 0.9606\n",
            "******************************\n"
          ]
        },
        {
          "output_type": "stream",
          "name": "stderr",
          "text": [
            "100%|██████████| 94/94 [00:17<00:00,  5.49it/s]\n",
            "100%|██████████| 24/24 [00:02<00:00,  9.01it/s]\n",
            " 92%|█████████▏| 46/50 [16:17<01:24, 21.24s/it]"
          ]
        },
        {
          "output_type": "stream",
          "name": "stdout",
          "text": [
            "******************************\n",
            "Epoch: 46\n",
            "Training Predictions: [8 2 9 0 0 4 4 6 4 5 8 1 9 5 8 3 1 3 5 7 4 4 3 5 6 1 5 1 1 5]\n",
            "Training Labels: [8 2 9 0 0 4 4 6 4 5 8 1 9 5 8 3 1 3 8 7 4 4 3 5 6 1 5 1 1 5]\n",
            "Validation Predictions: [2 3 6 9 3 8 0 8 3 4 4 1 8 9 8 7 5 2 4 5 8 1 0 1 4 6 2 6 0 1]\n",
            "Validation Labels: [2 3 6 9 3 8 0 8 3 4 4 1 8 9 8 7 5 2 4 5 8 1 0 1 4 6 2 6 0 1]\n",
            "------------------------------\n",
            "Train Loss: 0.1849\n",
            "Valid Loss: 0.1349\n",
            "Train Accuracy: 0.9451\n",
            "Valid Accuracy: 0.9616\n",
            "******************************\n"
          ]
        },
        {
          "output_type": "stream",
          "name": "stderr",
          "text": [
            "100%|██████████| 94/94 [00:17<00:00,  5.27it/s]\n",
            "100%|██████████| 24/24 [00:04<00:00,  4.96it/s]\n",
            " 94%|█████████▍| 47/50 [16:41<01:05, 21.96s/it]"
          ]
        },
        {
          "output_type": "stream",
          "name": "stdout",
          "text": [
            "******************************\n",
            "Epoch: 47\n",
            "Training Predictions: [1 7 6 4 4 7 3 3 4 1 6 2 3 2 8 9 6 0 6 7 9 6 7 7 9 0 0 4 4 9]\n",
            "Training Labels: [1 7 6 4 4 7 3 3 4 1 6 2 3 2 8 9 6 0 6 7 7 6 7 9 9 0 0 4 4 9]\n",
            "Validation Predictions: [2 0 8 6 4 3 6 9 2 0 2 6 5 1 1 3 0 7 5 1 9 1 3 9 5 0 2 1 6 1]\n",
            "Validation Labels: [2 0 8 6 4 3 6 9 2 0 2 6 5 1 1 3 0 7 5 1 9 1 3 9 5 0 2 1 6 1]\n",
            "------------------------------\n",
            "Train Loss: 0.1865\n",
            "Valid Loss: 0.1337\n",
            "Train Accuracy: 0.9442\n",
            "Valid Accuracy: 0.9623\n",
            "******************************\n"
          ]
        },
        {
          "output_type": "stream",
          "name": "stderr",
          "text": [
            "100%|██████████| 94/94 [00:17<00:00,  5.39it/s]\n",
            "100%|██████████| 24/24 [00:02<00:00,  8.50it/s]\n",
            " 96%|█████████▌| 48/50 [17:02<00:43, 21.76s/it]"
          ]
        },
        {
          "output_type": "stream",
          "name": "stdout",
          "text": [
            "******************************\n",
            "Epoch: 48\n",
            "Training Predictions: [3 6 0 1 1 0 6 6 0 4 0 8 8 5 2 1 9 8 3 7 9 3 5 0 6 4 1 0 6 1]\n",
            "Training Labels: [3 6 0 1 1 0 6 6 0 4 0 8 8 5 2 1 9 8 3 7 9 3 5 0 6 4 1 0 6 1]\n",
            "Validation Predictions: [2 3 2 3 0 9 0 8 0 7 4 7 3 1 1 7 2 8 4 9 8 9 7 5 0 0 5 2 6 2]\n",
            "Validation Labels: [2 3 2 3 0 9 0 8 0 7 4 7 3 1 1 7 2 8 4 9 8 9 7 5 0 0 5 2 6 2]\n",
            "------------------------------\n",
            "Train Loss: 0.1777\n",
            "Valid Loss: 0.1307\n",
            "Train Accuracy: 0.9479\n",
            "Valid Accuracy: 0.9622\n",
            "******************************\n"
          ]
        },
        {
          "output_type": "stream",
          "name": "stderr",
          "text": [
            "100%|██████████| 94/94 [00:17<00:00,  5.35it/s]\n",
            "100%|██████████| 24/24 [00:02<00:00,  8.79it/s]\n",
            " 98%|█████████▊| 49/50 [17:23<00:21, 21.63s/it]"
          ]
        },
        {
          "output_type": "stream",
          "name": "stdout",
          "text": [
            "******************************\n",
            "Epoch: 49\n",
            "Training Predictions: [2 9 6 7 0 2 2 6 5 3 3 7 5 6 8 4 1 9 3 2 5 1 3 4 6 4 6 2 5 5]\n",
            "Training Labels: [2 9 6 7 0 7 2 6 5 3 3 7 5 6 8 4 1 9 3 2 8 1 3 4 6 4 6 2 5 5]\n",
            "Validation Predictions: [8 9 9 6 9 0 4 2 8 8 8 7 9 7 0 1 9 8 1 6 3 9 5 6 6 5 1 7 9 7]\n",
            "Validation Labels: [8 9 9 6 9 0 4 2 8 8 8 7 9 7 0 1 9 2 1 6 3 9 5 6 6 5 1 7 9 7]\n",
            "------------------------------\n",
            "Train Loss: 0.1791\n",
            "Valid Loss: 0.1369\n",
            "Train Accuracy: 0.9457\n",
            "Valid Accuracy: 0.9587\n",
            "******************************\n"
          ]
        },
        {
          "output_type": "stream",
          "name": "stderr",
          "text": [
            "100%|██████████| 94/94 [00:17<00:00,  5.46it/s]\n",
            "100%|██████████| 24/24 [00:04<00:00,  4.88it/s]\n",
            "100%|██████████| 50/50 [17:47<00:00, 21.34s/it]"
          ]
        },
        {
          "output_type": "stream",
          "name": "stdout",
          "text": [
            "******************************\n",
            "Epoch: 50\n",
            "Training Predictions: [6 8 2 9 5 3 5 8 9 6 5 5 8 1 8 4 3 4 2 2 2 8 6 4 5 9 7 9 3 7]\n",
            "Training Labels: [6 8 2 9 5 3 5 8 9 6 5 5 8 1 8 4 5 4 2 2 2 8 6 4 5 9 7 9 3 3]\n",
            "Validation Predictions: [1 5 5 0 2 6 6 6 1 6 6 6 8 5 6 5 9 5 2 0 3 1 8 8 6 9 8 5 5 0]\n",
            "Validation Labels: [1 5 5 0 2 6 6 6 1 6 6 6 8 5 6 5 9 5 2 0 3 1 8 8 6 9 8 5 5 0]\n",
            "------------------------------\n",
            "Train Loss: 0.1775\n",
            "Valid Loss: 0.1351\n",
            "Train Accuracy: 0.9469\n",
            "Valid Accuracy: 0.9615\n",
            "******************************\n",
            "Training Time: 1067.14 s\n"
          ]
        },
        {
          "output_type": "stream",
          "name": "stderr",
          "text": [
            "\n"
          ]
        }
      ]
    },
    {
      "cell_type": "code",
      "source": [
        "epochs_list=list(range(1, epochs+1))\n",
        "plt.figure(figsize=(18, 8))\n",
        "plt.subplot(1, 2, 1)\n",
        "plt.plot(epochs_list, train_losses, label=\"Train Loss\")\n",
        "plt.plot(epochs_list, val_losses, label=\"Validation Loss\")\n",
        "plt.xticks(ticks=list(range(0, epochs+1, 2)))\n",
        "plt.title('Loss Over Epochs')\n",
        "plt.xlabel('Epochs')\n",
        "plt.ylabel('Loss')\n",
        "plt.grid()\n",
        "plt.tight_layout()\n",
        "plt.legend()\n",
        "\n",
        "plt.subplot(1, 2, 2)\n",
        "plt.plot(epochs_list, train_accuracies, label=\"Train Accuracy\")\n",
        "plt.plot(epochs_list, val_accuracies, label=\"Validation Accuracy\")\n",
        "plt.xticks(ticks=list(range(0, epochs+1, 2)))\n",
        "plt.title('Accuracy Over Epochs')\n",
        "plt.xlabel('Epochs')\n",
        "plt.ylabel('Accuracy')\n",
        "plt.grid()\n",
        "plt.tight_layout()\n",
        "plt.legend()\n",
        "plt.show()"
      ],
      "metadata": {
        "colab": {
          "base_uri": "https://localhost:8080/",
          "height": 629
        },
        "id": "k8KmROBfMWLP",
        "outputId": "90f67aa5-e776-49c1-dc08-85f88622e777"
      },
      "execution_count": 39,
      "outputs": [
        {
          "output_type": "display_data",
          "data": {
            "text/plain": [
              "<Figure size 1800x800 with 2 Axes>"
            ],
            "image/png": "[encoded data removed]"
          },
          "metadata": {}
        }
      ]
    },
    {
      "cell_type": "code",
      "source": [
        "#Testing\n",
        "\n",
        "test_labels=[]\n",
        "test_preds=[]\n",
        "test_running_loss=0\n",
        "with torch.no_grad():\n",
        "  for idx, (data, target) in enumerate(tqdm(test_dataloader, position=0, leave=True)):\n",
        "\n",
        "\n",
        "    img=data.float().to(device)\n",
        "    label=target.type(torch.uint8).to(device)\n",
        "    y_pred=model2(img)\n",
        "    y_pred_label=torch.argmax(y_pred, dim=1)\n",
        "\n",
        "    test_labels.extend(label.cpu().detach())\n",
        "    test_preds.extend(y_pred_label.cpu().detach())\n",
        "\n",
        "    loss=criterion(y_pred, label)\n",
        "    test_running_loss+=loss.item()\n",
        "\n",
        "test_loss=test_running_loss / (idx+1)\n",
        "test_accuracy=sum(1 for x, y in zip(test_preds, test_labels) if x==y) / len(test_labels)\n",
        "\n",
        "print(\"-\" * 30)\n",
        "print(f\"Test Loss: {test_loss:.4f}\")\n",
        "print(f\"Test Accuracy: {test_accuracy:.4f}\")\n",
        "print(\"-\" * 30)"
      ],
      "metadata": {
        "colab": {
          "base_uri": "https://localhost:8080/"
        },
        "id": "jx0VX2HcNf2F",
        "outputId": "767fff42-2ca8-4952-a076-0a6c5e09fa53"
      },
      "execution_count": 41,
      "outputs": [
        {
          "output_type": "stream",
          "name": "stderr",
          "text": [
            "\r  0%|          | 0/20 [00:00<?, ?it/s]/usr/local/lib/python3.10/dist-packages/torch/utils/data/dataloader.py:557: UserWarning: This DataLoader will create 4 worker processes in total. Our suggested max number of worker in current system is 2, which is smaller than what this DataLoader is going to create. Please be aware that excessive worker creation might get DataLoader running slow or even freeze, lower the worker number to avoid potential slowness/freeze if necessary.\n",
            "  warnings.warn(_create_warning_msg(\n",
            "100%|██████████| 20/20 [00:02<00:00,  7.92it/s]\n"
          ]
        },
        {
          "output_type": "stream",
          "name": "stdout",
          "text": [
            "------------------------------\n",
            "Test Loss: 0.1341\n",
            "Test Accuracy: 0.9624\n",
            "------------------------------\n"
          ]
        }
      ]
    }
  ]
}